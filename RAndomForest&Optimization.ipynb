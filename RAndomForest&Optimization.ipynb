{
 "cells": [
  {
   "cell_type": "markdown",
   "metadata": {},
   "source": [
    "# Actual Prediction"
   ]
  },
  {
   "cell_type": "code",
   "execution_count": 1,
   "metadata": {},
   "outputs": [],
   "source": [
    "#Declare Variables\n",
    "import numpy as np\n",
    "import csv,sklearn\n",
    "import pandas as pd # data processing, CSV file I/O (e.g. pd.read_csv)\n",
    "from numpy import std\n",
    "from numpy import mean\n",
    "from pandas import read_csv\n",
    "from sklearn import metrics\n",
    "from matplotlib import pyplot\n",
    "from collections import Counter\n",
    "import matplotlib.pyplot as plt #for visualization and plot\n",
    "from sklearn.metrics import roc_curve, auc\n",
    "from sklearn.model_selection import GridSearchCV\n",
    "from sklearn.ensemble import RandomForestClassifier\n",
    "from sklearn.model_selection import cross_val_score\n",
    "from sklearn.model_selection import train_test_split\n",
    "from sklearn.model_selection import RepeatedStratifiedKFold"
   ]
  },
  {
   "cell_type": "code",
   "execution_count": 2,
   "metadata": {},
   "outputs": [],
   "source": [
    "#glucose and output data\n",
    "data = pd.read_csv('diabetesmerge.csv')"
   ]
  },
  {
   "cell_type": "code",
   "execution_count": 3,
   "metadata": {},
   "outputs": [
    {
     "data": {
      "text/html": [
       "<div>\n",
       "<style scoped>\n",
       "    .dataframe tbody tr th:only-of-type {\n",
       "        vertical-align: middle;\n",
       "    }\n",
       "\n",
       "    .dataframe tbody tr th {\n",
       "        vertical-align: top;\n",
       "    }\n",
       "\n",
       "    .dataframe thead th {\n",
       "        text-align: right;\n",
       "    }\n",
       "</style>\n",
       "<table border=\"1\" class=\"dataframe\">\n",
       "  <thead>\n",
       "    <tr style=\"text-align: right;\">\n",
       "      <th></th>\n",
       "      <th>Glucose</th>\n",
       "      <th>BloodPressure</th>\n",
       "      <th>Insulin</th>\n",
       "      <th>Age</th>\n",
       "      <th>Output</th>\n",
       "    </tr>\n",
       "  </thead>\n",
       "  <tbody>\n",
       "    <tr>\n",
       "      <th>0</th>\n",
       "      <td>89</td>\n",
       "      <td>66</td>\n",
       "      <td>94</td>\n",
       "      <td>21</td>\n",
       "      <td>0</td>\n",
       "    </tr>\n",
       "    <tr>\n",
       "      <th>1</th>\n",
       "      <td>137</td>\n",
       "      <td>40</td>\n",
       "      <td>168</td>\n",
       "      <td>33</td>\n",
       "      <td>2</td>\n",
       "    </tr>\n",
       "    <tr>\n",
       "      <th>2</th>\n",
       "      <td>78</td>\n",
       "      <td>50</td>\n",
       "      <td>88</td>\n",
       "      <td>26</td>\n",
       "      <td>0</td>\n",
       "    </tr>\n",
       "    <tr>\n",
       "      <th>3</th>\n",
       "      <td>197</td>\n",
       "      <td>70</td>\n",
       "      <td>543</td>\n",
       "      <td>53</td>\n",
       "      <td>2</td>\n",
       "    </tr>\n",
       "    <tr>\n",
       "      <th>4</th>\n",
       "      <td>189</td>\n",
       "      <td>60</td>\n",
       "      <td>846</td>\n",
       "      <td>59</td>\n",
       "      <td>2</td>\n",
       "    </tr>\n",
       "  </tbody>\n",
       "</table>\n",
       "</div>"
      ],
      "text/plain": [
       "   Glucose  BloodPressure  Insulin  Age  Output\n",
       "0       89             66       94   21       0\n",
       "1      137             40      168   33       2\n",
       "2       78             50       88   26       0\n",
       "3      197             70      543   53       2\n",
       "4      189             60      846   59       2"
      ]
     },
     "execution_count": 3,
     "metadata": {},
     "output_type": "execute_result"
    }
   ],
   "source": [
    "data.head()"
   ]
  },
  {
   "cell_type": "code",
   "execution_count": 4,
   "metadata": {},
   "outputs": [],
   "source": [
    "# Split data into train and test set\n",
    "splitRatio = 0.2\n",
    "\n",
    "train , test = train_test_split(data,test_size = splitRatio,random_state = 123)\n",
    "\n",
    "X_train = train[[x for x in train.columns if x not in [\"Output\"]]]\n",
    "y_train = train[[\"Output\"]]\n",
    "\n",
    "X_test  = test[[x for x in test.columns if x not in [\"Output\"]]]\n",
    "y_test  = test[[\"Output\"]]"
   ]
  },
  {
   "cell_type": "code",
   "execution_count": 5,
   "metadata": {},
   "outputs": [
    {
     "name": "stdout",
     "output_type": "stream",
     "text": [
      "Class=2, n=70 (47.945%)\n",
      "Class=0, n=36 (24.658%)\n",
      "Class=1, n=40 (27.397%)\n"
     ]
    },
    {
     "data": {
      "image/png": "[encoded data removed]",
      "text/plain": [
       "<Figure size 432x288 with 1 Axes>"
      ]
     },
     "metadata": {
      "needs_background": "light"
     },
     "output_type": "display_data"
    }
   ],
   "source": [
    "#Visualizing Class Distribution\n",
    "# summarize \n",
    "out = y_test['Output']\n",
    "counter = Counter(out)\n",
    "for k,v in counter.items():\n",
    "\tper = v / len(out) * 100\n",
    "\tprint('Class=%d, n=%d (%.3f%%)' % (k, v, per))\n",
    "# plot the distribution\n",
    "pyplot.bar(counter.keys(), counter.values())\n",
    "pyplot.show()"
   ]
  },
  {
   "cell_type": "code",
   "execution_count": 6,
   "metadata": {},
   "outputs": [
    {
     "name": "stdout",
     "output_type": "stream",
     "text": [
      "Mean Accuracy: 0.98795068 (0.00611987)\n"
     ]
    },
    {
     "name": "stderr",
     "output_type": "stream",
     "text": [
      "c:\\program files\\python37\\lib\\site-packages\\ipykernel_launcher.py:15: DataConversionWarning: A column-vector y was passed when a 1d array was expected. Please change the shape of y to (n_samples,), for example using ravel().\n",
      "  from ipykernel import kernelapp as app\n"
     ]
    }
   ],
   "source": [
    "# evaluate the Random forest model\n",
    "def evaluate_model(X, y, model):\n",
    "\t# define evaluation procedure\n",
    "\tcv = RepeatedStratifiedKFold(n_splits=5, n_repeats=3, random_state=1)\n",
    "\t# evaluate model\n",
    "\tscores = cross_val_score(model, X, y, scoring='accuracy', cv=cv, n_jobs=-1)\n",
    "\treturn scores\n",
    " \n",
    "# define the model\n",
    "modelRF = RandomForestClassifier(max_depth= 3, max_features=2, n_estimators=50)\n",
    "#modelRF = RandomForestClassifier(max_depth= 3, max_features=2, n_estimators=50,min_samples_split=3, min_samples_leaf=4)\n",
    "\n",
    "# evaluate the model\n",
    "scores = evaluate_model(X_train, y_train, modelRF)\n",
    "modelRF.fit(X_train, y_train)\n",
    "# summarize performance\n",
    "print('Mean Accuracy: %.8f (%.8f)' % (mean(scores), std(scores)))"
   ]
  },
  {
   "cell_type": "code",
   "execution_count": 13,
   "metadata": {},
   "outputs": [
    {
     "data": {
      "text/plain": [
       "GridSearchCV(cv=RepeatedStratifiedKFold(n_repeats=3, n_splits=10, random_state=1),\n",
       "             estimator=RandomForestClassifier(),\n",
       "             param_grid=[{'max_depth': [2, 3, 5, 6, 7, 8, 9, 10],\n",
       "                          'max_features': [2, 3, 4],\n",
       "                          'n_estimators': [10, 50, 100]}],\n",
       "             return_train_score=True, scoring='accuracy')"
      ]
     },
     "execution_count": 13,
     "metadata": {},
     "output_type": "execute_result"
    }
   ],
   "source": [
    "# Grid Search for optimizing random forest parameters\n",
    "\n",
    "param_grid = [\n",
    "    {'max_depth': [2, 3, 5,6,7,8,9,10], 'n_estimators': [10, 50, 100],'max_features': [2, 3, 4]}]\n",
    "\n",
    "modelRF_grid = RandomForestClassifier()\n",
    "cv = RepeatedStratifiedKFold(n_splits=10, n_repeats=3, random_state=1)\n",
    "\n",
    "grid_search = GridSearchCV(modelRF_grid, param_grid,\n",
    "                           scoring='accuracy',\n",
    "                           return_train_score=True,\n",
    "                           cv=cv,\n",
    "                          )\n",
    "grid_search.fit(X_train, y_train.values.ravel())"
   ]
  },
  {
   "cell_type": "code",
   "execution_count": 8,
   "metadata": {},
   "outputs": [
    {
     "data": {
      "text/plain": [
       "{'max_depth': 3, 'max_features': 4, 'n_estimators': 100}"
      ]
     },
     "execution_count": 8,
     "metadata": {},
     "output_type": "execute_result"
    }
   ],
   "source": [
    "grid_search.best_params_"
   ]
  },
  {
   "cell_type": "code",
   "execution_count": 9,
   "metadata": {
    "collapsed": true
   },
   "outputs": [],
   "source": [
    "cv_scores = grid_search.cv_results_"
   ]
  },
  {
   "cell_type": "code",
   "execution_count": 10,
   "metadata": {
    "scrolled": true
   },
   "outputs": [
    {
     "name": "stdout",
     "output_type": "stream",
     "text": [
      "0.9564838990426457 {'max_depth': 2, 'max_features': 2, 'n_estimators': 10}\n",
      "0.9686684073107049 {'max_depth': 2, 'max_features': 2, 'n_estimators': 50}\n",
      "0.9625761531766753 {'max_depth': 2, 'max_features': 2, 'n_estimators': 100}\n",
      "0.9808529155787642 {'max_depth': 2, 'max_features': 3, 'n_estimators': 10}\n",
      "0.9869451697127938 {'max_depth': 2, 'max_features': 3, 'n_estimators': 50}\n",
      "0.9869451697127938 {'max_depth': 2, 'max_features': 3, 'n_estimators': 100}\n",
      "0.9869451697127938 {'max_depth': 2, 'max_features': 4, 'n_estimators': 10}\n",
      "0.9869451697127938 {'max_depth': 2, 'max_features': 4, 'n_estimators': 50}\n",
      "0.9869451697127938 {'max_depth': 2, 'max_features': 4, 'n_estimators': 100}\n",
      "0.9825935596170583 {'max_depth': 3, 'max_features': 2, 'n_estimators': 10}\n",
      "0.9852045256744996 {'max_depth': 3, 'max_features': 2, 'n_estimators': 50}\n",
      "0.9869451697127938 {'max_depth': 3, 'max_features': 2, 'n_estimators': 100}\n",
      "0.9947780678851175 {'max_depth': 3, 'max_features': 3, 'n_estimators': 10}\n",
      "0.9947780678851175 {'max_depth': 3, 'max_features': 3, 'n_estimators': 50}\n",
      "0.9939077458659704 {'max_depth': 3, 'max_features': 3, 'n_estimators': 100}\n",
      "0.999129677980853 {'max_depth': 3, 'max_features': 4, 'n_estimators': 10}\n",
      "0.9982593559617058 {'max_depth': 3, 'max_features': 4, 'n_estimators': 50}\n",
      "1.0 {'max_depth': 3, 'max_features': 4, 'n_estimators': 100}\n",
      "0.9912967798085291 {'max_depth': 5, 'max_features': 2, 'n_estimators': 10}\n",
      "0.9939077458659704 {'max_depth': 5, 'max_features': 2, 'n_estimators': 50}\n",
      "0.9947780678851175 {'max_depth': 5, 'max_features': 2, 'n_estimators': 100}\n",
      "0.9973890339425587 {'max_depth': 5, 'max_features': 3, 'n_estimators': 10}\n",
      "0.9973890339425587 {'max_depth': 5, 'max_features': 3, 'n_estimators': 50}\n",
      "0.9973890339425587 {'max_depth': 5, 'max_features': 3, 'n_estimators': 100}\n",
      "1.0 {'max_depth': 5, 'max_features': 4, 'n_estimators': 10}\n",
      "1.0 {'max_depth': 5, 'max_features': 4, 'n_estimators': 50}\n",
      "1.0 {'max_depth': 5, 'max_features': 4, 'n_estimators': 100}\n",
      "0.9921671018276762 {'max_depth': 6, 'max_features': 2, 'n_estimators': 10}\n",
      "0.9939077458659704 {'max_depth': 6, 'max_features': 2, 'n_estimators': 50}\n",
      "0.9947780678851175 {'max_depth': 6, 'max_features': 2, 'n_estimators': 100}\n",
      "0.9939077458659704 {'max_depth': 6, 'max_features': 3, 'n_estimators': 10}\n",
      "0.999129677980853 {'max_depth': 6, 'max_features': 3, 'n_estimators': 50}\n",
      "0.9982593559617058 {'max_depth': 6, 'max_features': 3, 'n_estimators': 100}\n",
      "1.0 {'max_depth': 6, 'max_features': 4, 'n_estimators': 10}\n",
      "1.0 {'max_depth': 6, 'max_features': 4, 'n_estimators': 50}\n",
      "1.0 {'max_depth': 6, 'max_features': 4, 'n_estimators': 100}\n",
      "0.9930374238468234 {'max_depth': 7, 'max_features': 2, 'n_estimators': 10}\n",
      "0.9939077458659704 {'max_depth': 7, 'max_features': 2, 'n_estimators': 50}\n",
      "0.9947780678851175 {'max_depth': 7, 'max_features': 2, 'n_estimators': 100}\n",
      "0.9956483899042646 {'max_depth': 7, 'max_features': 3, 'n_estimators': 10}\n",
      "0.9982593559617058 {'max_depth': 7, 'max_features': 3, 'n_estimators': 50}\n",
      "0.9982593559617058 {'max_depth': 7, 'max_features': 3, 'n_estimators': 100}\n",
      "1.0 {'max_depth': 7, 'max_features': 4, 'n_estimators': 10}\n",
      "1.0 {'max_depth': 7, 'max_features': 4, 'n_estimators': 50}\n",
      "1.0 {'max_depth': 7, 'max_features': 4, 'n_estimators': 100}\n",
      "0.9930374238468234 {'max_depth': 8, 'max_features': 2, 'n_estimators': 10}\n",
      "0.9921671018276762 {'max_depth': 8, 'max_features': 2, 'n_estimators': 50}\n",
      "0.9947780678851175 {'max_depth': 8, 'max_features': 2, 'n_estimators': 100}\n",
      "0.9965187119234117 {'max_depth': 8, 'max_features': 3, 'n_estimators': 10}\n",
      "0.9956483899042646 {'max_depth': 8, 'max_features': 3, 'n_estimators': 50}\n",
      "0.9965187119234117 {'max_depth': 8, 'max_features': 3, 'n_estimators': 100}\n",
      "0.999129677980853 {'max_depth': 8, 'max_features': 4, 'n_estimators': 10}\n",
      "1.0 {'max_depth': 8, 'max_features': 4, 'n_estimators': 50}\n",
      "0.999129677980853 {'max_depth': 8, 'max_features': 4, 'n_estimators': 100}\n",
      "0.9921671018276762 {'max_depth': 9, 'max_features': 2, 'n_estimators': 10}\n",
      "0.9947780678851175 {'max_depth': 9, 'max_features': 2, 'n_estimators': 50}\n",
      "0.9947780678851175 {'max_depth': 9, 'max_features': 2, 'n_estimators': 100}\n",
      "0.9956483899042646 {'max_depth': 9, 'max_features': 3, 'n_estimators': 10}\n",
      "0.999129677980853 {'max_depth': 9, 'max_features': 3, 'n_estimators': 50}\n",
      "0.9973890339425587 {'max_depth': 9, 'max_features': 3, 'n_estimators': 100}\n",
      "0.9982593559617058 {'max_depth': 9, 'max_features': 4, 'n_estimators': 10}\n",
      "1.0 {'max_depth': 9, 'max_features': 4, 'n_estimators': 50}\n",
      "1.0 {'max_depth': 9, 'max_features': 4, 'n_estimators': 100}\n",
      "0.9886858137510879 {'max_depth': 10, 'max_features': 2, 'n_estimators': 10}\n",
      "0.9939077458659704 {'max_depth': 10, 'max_features': 2, 'n_estimators': 50}\n",
      "0.9947780678851175 {'max_depth': 10, 'max_features': 2, 'n_estimators': 100}\n",
      "0.9956483899042646 {'max_depth': 10, 'max_features': 3, 'n_estimators': 10}\n",
      "0.9965187119234117 {'max_depth': 10, 'max_features': 3, 'n_estimators': 50}\n",
      "0.9982593559617058 {'max_depth': 10, 'max_features': 3, 'n_estimators': 100}\n",
      "0.999129677980853 {'max_depth': 10, 'max_features': 4, 'n_estimators': 10}\n",
      "1.0 {'max_depth': 10, 'max_features': 4, 'n_estimators': 50}\n",
      "1.0 {'max_depth': 10, 'max_features': 4, 'n_estimators': 100}\n"
     ]
    }
   ],
   "source": [
    "##printing all the parameters along with their scores\n",
    "for mean_score, params in zip(cv_scores['mean_test_score'], cv_scores[\"params\"]):\n",
    "    print(mean_score, params)"
   ]
  },
  {
   "cell_type": "code",
   "execution_count": 15,
   "metadata": {},
   "outputs": [],
   "source": [
    "#y_pred_class = grid_search.predict(X_test)\n",
    "y_pred_class = modelRF.predict(X_test)"
   ]
  },
  {
   "cell_type": "code",
   "execution_count": 16,
   "metadata": {},
   "outputs": [
    {
     "name": "stdout",
     "output_type": "stream",
     "text": [
      "0.9726027397260274\n"
     ]
    }
   ],
   "source": [
    "# calculate accuracy\n",
    "print(metrics.accuracy_score(y_test, y_pred_class, normalize=True))"
   ]
  },
  {
   "cell_type": "code",
   "execution_count": 17,
   "metadata": {},
   "outputs": [
    {
     "name": "stdout",
     "output_type": "stream",
     "text": [
      "[[36  0  0]\n",
      " [ 0 40  0]\n",
      " [ 4  0 66]]\n"
     ]
    }
   ],
   "source": [
    "# IMPORTANT: first argument is true values, second argument is predicted values\n",
    "# this produces a 2x2 numpy array (matrix)\n",
    "confusion = metrics.confusion_matrix(y_test, y_pred_class)\n",
    "print(confusion)"
   ]
  },
  {
   "cell_type": "code",
   "execution_count": 7,
   "metadata": {},
   "outputs": [
    {
     "name": "stdout",
     "output_type": "stream",
     "text": [
      "Train acc:  0.9879518072289156\n",
      "Test acc:  0.9726027397260274\n"
     ]
    }
   ],
   "source": [
    "# Compare Prediction \n",
    "print(\"Train acc: \" , modelRF.score(X_train, y_train))\n",
    "print(\"Test acc: \", modelRF.score(X_test, y_test))"
   ]
  },
  {
   "cell_type": "code",
   "execution_count": 23,
   "metadata": {},
   "outputs": [
    {
     "name": "stdout",
     "output_type": "stream",
     "text": [
      "Train acc:  1.0\n",
      "Test acc:  1.0\n"
     ]
    }
   ],
   "source": [
    "# Compare Prediction \n",
    "print(\"Train acc: \" , grid_search.score(X_train, y_train))\n",
    "print(\"Test acc: \", grid_search.score(X_test, y_test))"
   ]
  },
  {
   "cell_type": "code",
   "execution_count": 19,
   "metadata": {},
   "outputs": [],
   "source": [
    "new_df = pd.DataFrame([[100,300,75,64]])\n",
    "# We predict insulin\n",
    "prediction = grid_search.predict(new_df)\n"
   ]
  },
  {
   "cell_type": "code",
   "execution_count": 20,
   "metadata": {},
   "outputs": [
    {
     "name": "stdout",
     "output_type": "stream",
     "text": [
      "[1]\n"
     ]
    }
   ],
   "source": [
    "print(prediction)"
   ]
  },
  {
   "cell_type": "code",
   "execution_count": 21,
   "metadata": {},
   "outputs": [
    {
     "name": "stdout",
     "output_type": "stream",
     "text": [
      "              precision    recall  f1-score   support\n",
      "\n",
      "           0  0.90000000 1.00000000 0.94736842        36\n",
      "           1  1.00000000 1.00000000 1.00000000        40\n",
      "           2  1.00000000 0.94285714 0.97058824        70\n",
      "\n",
      "    accuracy                      0.97260274       146\n",
      "   macro avg  0.96666667 0.98095238 0.97265222       146\n",
      "weighted avg  0.97534247 0.97260274 0.97292082       146\n",
      "\n"
     ]
    }
   ],
   "source": [
    "# Prediction\n",
    "prediction = np.around(modelRF.predict(X_test))\n",
    "print(metrics.classification_report(y_test,prediction, digits=8))"
   ]
  },
  {
   "cell_type": "code",
   "execution_count": 22,
   "metadata": {},
   "outputs": [
    {
     "ename": "TypeError",
     "evalue": "'(slice(None, None, None), 0)' is an invalid key",
     "output_type": "error",
     "traceback": [
      "\u001b[1;31m---------------------------------------------------------------------------\u001b[0m",
      "\u001b[1;31mTypeError\u001b[0m                                 Traceback (most recent call last)",
      "\u001b[1;32m~\\AppData\\Local\\Temp/ipykernel_6880/492613937.py\u001b[0m in \u001b[0;36m<module>\u001b[1;34m\u001b[0m\n\u001b[0;32m      7\u001b[0m \u001b[0mroc_auc\u001b[0m \u001b[1;33m=\u001b[0m \u001b[0mdict\u001b[0m\u001b[1;33m(\u001b[0m\u001b[1;33m)\u001b[0m\u001b[1;33m\u001b[0m\u001b[1;33m\u001b[0m\u001b[0m\n\u001b[0;32m      8\u001b[0m \u001b[1;32mfor\u001b[0m \u001b[0mi\u001b[0m \u001b[1;32min\u001b[0m \u001b[0mrange\u001b[0m\u001b[1;33m(\u001b[0m\u001b[0mn_classes\u001b[0m\u001b[1;33m)\u001b[0m\u001b[1;33m:\u001b[0m\u001b[1;33m\u001b[0m\u001b[1;33m\u001b[0m\u001b[0m\n\u001b[1;32m----> 9\u001b[1;33m     \u001b[0mfpr\u001b[0m\u001b[1;33m[\u001b[0m\u001b[0mi\u001b[0m\u001b[1;33m]\u001b[0m\u001b[1;33m,\u001b[0m \u001b[0mtpr\u001b[0m\u001b[1;33m[\u001b[0m\u001b[0mi\u001b[0m\u001b[1;33m]\u001b[0m\u001b[1;33m,\u001b[0m \u001b[0m_\u001b[0m \u001b[1;33m=\u001b[0m \u001b[0mroc_curve\u001b[0m\u001b[1;33m(\u001b[0m\u001b[0my_test\u001b[0m\u001b[1;33m[\u001b[0m\u001b[1;33m:\u001b[0m\u001b[1;33m,\u001b[0m \u001b[0mi\u001b[0m\u001b[1;33m]\u001b[0m\u001b[1;33m,\u001b[0m \u001b[0my_pred_class\u001b[0m\u001b[1;33m[\u001b[0m\u001b[1;33m:\u001b[0m\u001b[1;33m,\u001b[0m \u001b[0mi\u001b[0m\u001b[1;33m]\u001b[0m\u001b[1;33m)\u001b[0m \u001b[1;31m#needs label binarizer to work\u001b[0m\u001b[1;33m\u001b[0m\u001b[1;33m\u001b[0m\u001b[0m\n\u001b[0m\u001b[0;32m     10\u001b[0m     \u001b[0mroc_auc\u001b[0m\u001b[1;33m[\u001b[0m\u001b[0mi\u001b[0m\u001b[1;33m]\u001b[0m \u001b[1;33m=\u001b[0m \u001b[0mauc\u001b[0m\u001b[1;33m(\u001b[0m\u001b[0mfpr\u001b[0m\u001b[1;33m[\u001b[0m\u001b[0mi\u001b[0m\u001b[1;33m]\u001b[0m\u001b[1;33m,\u001b[0m \u001b[0mtpr\u001b[0m\u001b[1;33m[\u001b[0m\u001b[0mi\u001b[0m\u001b[1;33m]\u001b[0m\u001b[1;33m)\u001b[0m\u001b[1;33m\u001b[0m\u001b[1;33m\u001b[0m\u001b[0m\n\u001b[0;32m     11\u001b[0m \u001b[1;33m\u001b[0m\u001b[0m\n",
      "\u001b[1;32mc:\\program files\\python37\\lib\\site-packages\\pandas\\core\\frame.py\u001b[0m in \u001b[0;36m__getitem__\u001b[1;34m(self, key)\u001b[0m\n\u001b[0;32m   3453\u001b[0m             \u001b[1;32mif\u001b[0m \u001b[0mself\u001b[0m\u001b[1;33m.\u001b[0m\u001b[0mcolumns\u001b[0m\u001b[1;33m.\u001b[0m\u001b[0mnlevels\u001b[0m \u001b[1;33m>\u001b[0m \u001b[1;36m1\u001b[0m\u001b[1;33m:\u001b[0m\u001b[1;33m\u001b[0m\u001b[1;33m\u001b[0m\u001b[0m\n\u001b[0;32m   3454\u001b[0m                 \u001b[1;32mreturn\u001b[0m \u001b[0mself\u001b[0m\u001b[1;33m.\u001b[0m\u001b[0m_getitem_multilevel\u001b[0m\u001b[1;33m(\u001b[0m\u001b[0mkey\u001b[0m\u001b[1;33m)\u001b[0m\u001b[1;33m\u001b[0m\u001b[1;33m\u001b[0m\u001b[0m\n\u001b[1;32m-> 3455\u001b[1;33m             \u001b[0mindexer\u001b[0m \u001b[1;33m=\u001b[0m \u001b[0mself\u001b[0m\u001b[1;33m.\u001b[0m\u001b[0mcolumns\u001b[0m\u001b[1;33m.\u001b[0m\u001b[0mget_loc\u001b[0m\u001b[1;33m(\u001b[0m\u001b[0mkey\u001b[0m\u001b[1;33m)\u001b[0m\u001b[1;33m\u001b[0m\u001b[1;33m\u001b[0m\u001b[0m\n\u001b[0m\u001b[0;32m   3456\u001b[0m             \u001b[1;32mif\u001b[0m \u001b[0mis_integer\u001b[0m\u001b[1;33m(\u001b[0m\u001b[0mindexer\u001b[0m\u001b[1;33m)\u001b[0m\u001b[1;33m:\u001b[0m\u001b[1;33m\u001b[0m\u001b[1;33m\u001b[0m\u001b[0m\n\u001b[0;32m   3457\u001b[0m                 \u001b[0mindexer\u001b[0m \u001b[1;33m=\u001b[0m \u001b[1;33m[\u001b[0m\u001b[0mindexer\u001b[0m\u001b[1;33m]\u001b[0m\u001b[1;33m\u001b[0m\u001b[1;33m\u001b[0m\u001b[0m\n",
      "\u001b[1;32mc:\\program files\\python37\\lib\\site-packages\\pandas\\core\\indexes\\base.py\u001b[0m in \u001b[0;36mget_loc\u001b[1;34m(self, key, method, tolerance)\u001b[0m\n\u001b[0;32m   3359\u001b[0m             \u001b[0mcasted_key\u001b[0m \u001b[1;33m=\u001b[0m \u001b[0mself\u001b[0m\u001b[1;33m.\u001b[0m\u001b[0m_maybe_cast_indexer\u001b[0m\u001b[1;33m(\u001b[0m\u001b[0mkey\u001b[0m\u001b[1;33m)\u001b[0m\u001b[1;33m\u001b[0m\u001b[1;33m\u001b[0m\u001b[0m\n\u001b[0;32m   3360\u001b[0m             \u001b[1;32mtry\u001b[0m\u001b[1;33m:\u001b[0m\u001b[1;33m\u001b[0m\u001b[1;33m\u001b[0m\u001b[0m\n\u001b[1;32m-> 3361\u001b[1;33m                 \u001b[1;32mreturn\u001b[0m \u001b[0mself\u001b[0m\u001b[1;33m.\u001b[0m\u001b[0m_engine\u001b[0m\u001b[1;33m.\u001b[0m\u001b[0mget_loc\u001b[0m\u001b[1;33m(\u001b[0m\u001b[0mcasted_key\u001b[0m\u001b[1;33m)\u001b[0m\u001b[1;33m\u001b[0m\u001b[1;33m\u001b[0m\u001b[0m\n\u001b[0m\u001b[0;32m   3362\u001b[0m             \u001b[1;32mexcept\u001b[0m \u001b[0mKeyError\u001b[0m \u001b[1;32mas\u001b[0m \u001b[0merr\u001b[0m\u001b[1;33m:\u001b[0m\u001b[1;33m\u001b[0m\u001b[1;33m\u001b[0m\u001b[0m\n\u001b[0;32m   3363\u001b[0m                 \u001b[1;32mraise\u001b[0m \u001b[0mKeyError\u001b[0m\u001b[1;33m(\u001b[0m\u001b[0mkey\u001b[0m\u001b[1;33m)\u001b[0m \u001b[1;32mfrom\u001b[0m \u001b[0merr\u001b[0m\u001b[1;33m\u001b[0m\u001b[1;33m\u001b[0m\u001b[0m\n",
      "\u001b[1;32mc:\\program files\\python37\\lib\\site-packages\\pandas\\_libs\\index.pyx\u001b[0m in \u001b[0;36mpandas._libs.index.IndexEngine.get_loc\u001b[1;34m()\u001b[0m\n",
      "\u001b[1;32mc:\\program files\\python37\\lib\\site-packages\\pandas\\_libs\\index.pyx\u001b[0m in \u001b[0;36mpandas._libs.index.IndexEngine.get_loc\u001b[1;34m()\u001b[0m\n",
      "\u001b[1;31mTypeError\u001b[0m: '(slice(None, None, None), 0)' is an invalid key"
     ]
    }
   ],
   "source": [
    "# Plot ROC Curve\n",
    "\n",
    "n_classes = 3\n",
    "# Compute ROC curve and ROC area for each class\n",
    "fpr = dict()\n",
    "tpr = dict()\n",
    "roc_auc = dict()\n",
    "for i in range(n_classes):\n",
    "    fpr[i], tpr[i], _ = roc_curve(y_test[:, i], y_pred_class[:, i]) #needs label binarizer to work\n",
    "    roc_auc[i] = auc(fpr[i], tpr[i])\n",
    "\n",
    "# Plot of a ROC curve for a specific class\n",
    "for i in range(n_classes):\n",
    "    plt.figure()\n",
    "    plt.plot(fpr[i], tpr[i], label='ROC curve (area = %0.8f)' % roc_auc[i])\n",
    "    plt.plot([0, 1], [0, 1], 'k--')\n",
    "    plt.xlim([0.0, 1.0])\n",
    "    plt.ylim([0.0, 1.05])\n",
    "    plt.xlabel('False Positive Rate')\n",
    "    plt.ylabel('True Positive Rate')\n",
    "    plt.title('Receiver operating characteristic example')\n",
    "    plt.legend(loc=\"lower right\")\n",
    "    plt.show()"
   ]
  },
  {
   "cell_type": "code",
   "execution_count": null,
   "metadata": {
    "collapsed": true
   },
   "outputs": [],
   "source": []
  }
 ],
 "metadata": {
  "kernelspec": {
   "display_name": "Python 3 (ipykernel)",
   "language": "python",
   "name": "python3"
  },
  "language_info": {
   "codemirror_mode": {
    "name": "ipython",
    "version": 3
   },
   "file_extension": ".py",
   "mimetype": "text/x-python",
   "name": "python",
   "nbconvert_exporter": "python",
   "pygments_lexer": "ipython3",
   "version": "3.7.3"
  }
 },
 "nbformat": 4,
 "nbformat_minor": 2
}
