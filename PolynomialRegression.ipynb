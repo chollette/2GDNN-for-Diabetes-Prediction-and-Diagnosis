{
 "cells": [
  {
   "cell_type": "markdown",
   "id": "8ef4b1ce",
   "metadata": {},
   "source": [
    "MIT License\n",
    "\n",
    "Copyright (c) 2021 Chollette Olisah\n",
    "\n",
    "Permission is hereby granted, free of charge, to any person obtaining a copy\n",
    "of this software and associated documentation files (the \"Software\"), to deal\n",
    "in the Software without restriction, including without limitation the rights\n",
    "to use, copy, modify, merge, publish, distribute, sublicense, and/or sell\n",
    "copies of the Software, and to permit persons to whom the Software is\n",
    "furnished to do so, subject to the following conditions:\n",
    "\n",
    "The above copyright notice and this permission notice shall be included in all\n",
    "copies or substantial portions of the Software.\n",
    "\n",
    "THE SOFTWARE IS PROVIDED \"AS IS\", WITHOUT WARRANTY OF ANY KIND, EXPRESS OR\n",
    "IMPLIED, INCLUDING BUT NOT LIMITED TO THE WARRANTIES OF MERCHANTABILITY,\n",
    "FITNESS FOR A PARTICULAR PURPOSE AND NONINFRINGEMENT. IN NO EVENT SHALL THE\n",
    "AUTHORS OR COPYRIGHT HOLDERS BE LIABLE FOR ANY CLAIM, DAMAGES OR OTHER\n",
    "LIABILITY, WHETHER IN AN ACTION OF CONTRACT, TORT OR OTHERWISE, ARISING FROM,\n",
    "OUT OF OR IN CONNECTION WITH THE SOFTWARE OR THE USE OR OTHER DEALINGS IN THE\n",
    "SOFTWARE.\n"
   ]
  },
  {
   "cell_type": "code",
   "execution_count": 1,
   "id": "5487c4c3",
   "metadata": {},
   "outputs": [],
   "source": [
    "import operator\n",
    "import pandas as pd\n",
    "import numpy as np\n",
    "import matplotlib.pyplot as plt\n",
    "\n",
    "import sklearn\n",
    "from sklearn.linear_model import LinearRegression\n",
    "from sklearn.metrics import mean_squared_error, r2_score\n",
    "from sklearn.preprocessing import PolynomialFeatures"
   ]
  },
  {
   "cell_type": "code",
   "execution_count": null,
   "id": "c4f3b625",
   "metadata": {},
   "outputs": [],
   "source": [
    "#glucose and output data\n",
    "data = pd.read_csv('poly-Nonzero.csv')\n",
    "data = data.sort_values(by='Insulin', ascending=True)\n",
    "print(data.shape)\n",
    "data.head() "
   ]
  },
  {
   "cell_type": "code",
   "execution_count": 3,
   "id": "6dc0300d",
   "metadata": {},
   "outputs": [],
   "source": [
    "from sklearn.model_selection import train_test_split\n",
    "splitRatio = 0.2\n",
    "\n",
    "train , test = train_test_split(data,test_size = splitRatio,random_state = 123)\n",
    "\n",
    "X_train = train[[x for x in train.columns if x not in [\"Insulin\"]]]\n",
    "y_train = train[[\"Insulin\"]]\n",
    "#y_train = label_binarize(y_train, classes=[0,1,2])\n",
    "\n",
    "X_test  = test[[x for x in test.columns if x not in [\"Insulin\"]]]\n",
    "y_test  = test[[\"Insulin\"]]\n",
    "\n"
   ]
  },
  {
   "cell_type": "code",
   "execution_count": 4,
   "id": "058545c0",
   "metadata": {},
   "outputs": [],
   "source": [
    "y_train = y_train.to_numpy()\n",
    "X_train = X_train.to_numpy()\n",
    "y_test = y_test.to_numpy()\n",
    "X_test = X_test.to_numpy()"
   ]
  },
  {
   "cell_type": "code",
   "execution_count": 5,
   "id": "bd506d7c",
   "metadata": {},
   "outputs": [],
   "source": [
    "polynomial_features2= PolynomialFeatures(degree=2)\n",
    "polynomial_features7= PolynomialFeatures(degree=7)\n",
    "polynomial_features12= PolynomialFeatures(degree=12)\n",
    "polynomial_features17= PolynomialFeatures(degree=17)\n",
    "\n"
   ]
  },
  {
   "cell_type": "code",
   "execution_count": 6,
   "id": "d064f5bf",
   "metadata": {},
   "outputs": [],
   "source": [
    "\n",
    "x_poly2 = polynomial_features2.fit_transform(X_train)\n",
    "t_poly2 = polynomial_features2.fit_transform(X_test)\n",
    "model = LinearRegression()\n",
    "model.fit(t_poly2, y_test)\n",
    "y_poly_pred2 = model.predict(t_poly2)\n",
    "\n",
    "\n",
    "\n",
    "x_poly7 = polynomial_features7.fit_transform(X_train)\n",
    "t_poly7 = polynomial_features7.fit_transform(X_test)\n",
    "model = LinearRegression()\n",
    "model.fit(t_poly7, y_test)\n",
    "y_poly_pred7 = model.predict(t_poly7)\n",
    "\n",
    "\n",
    "\n",
    "\n",
    "x_poly12 = polynomial_features12.fit_transform(X_train)\n",
    "t_poly12 = polynomial_features12.fit_transform(X_test)\n",
    "model = LinearRegression()\n",
    "model.fit(t_poly12, y_test)\n",
    "y_poly_pred12 = model.predict(t_poly12)\n",
    "\n",
    "x_poly17 = polynomial_features17.fit_transform(X_train)\n",
    "t_poly17 = polynomial_features17.fit_transform(X_test)\n",
    "model = LinearRegression()\n",
    "model.fit(t_poly17, y_test)\n",
    "y_poly_pred17 = model.predict(t_poly17)\n",
    "\n"
   ]
  },
  {
   "cell_type": "code",
   "execution_count": null,
   "id": "65441438",
   "metadata": {},
   "outputs": [],
   "source": [
    "mse = mean_squared_error(y_test,y_poly_pred2)\n",
    "print(mse)"
   ]
  },
  {
   "cell_type": "code",
   "execution_count": null,
   "id": "1bad42aa",
   "metadata": {},
   "outputs": [],
   "source": [
    "from sklearn.metrics import mean_absolute_error\n",
    "mean_absolute_error(y_test,y_poly_pred2)"
   ]
  },
  {
   "cell_type": "code",
   "execution_count": null,
   "id": "5d26a32b",
   "metadata": {},
   "outputs": [],
   "source": [
    "rmse = np.sqrt(mean_squared_error(y_test,y_poly_pred2))\n",
    "r2 = r2_score(y_test,y_poly_pred2)\n",
    "print(rmse)\n",
    "print(r2)\n",
    "\n",
    "plt.scatter(X_test, y_test, s=10)\n",
    "# sort the values of x before line plot\n",
    "sort_axis = operator.itemgetter(0)\n",
    "sorted_zip = sorted(zip(X_test,y_poly_pred2), key=sort_axis)\n",
    "X_test, y_poly_pred2 = zip(*sorted_zip)\n",
    "plt.plot(X_test, y_poly_pred2, color='m')\n",
    "plt.xlabel(\"Glucose\")\n",
    "plt.ylabel(\"Insulin\")\n",
    "plt.show()"
   ]
  },
  {
   "cell_type": "code",
   "execution_count": 37,
   "id": "6b8bc213",
   "metadata": {},
   "outputs": [
    {
     "data": {
      "text/plain": [
       "'\"\\n#fig, axes = plt.subplots(2,2)\\n# plot the 3 sets\\n\\nplt.scatter(X_test, y_test, s=10)\\n# sort the values of x before line plot\\nsort_axis = operator.itemgetter(0)\\nsorted_zip2 = sorted(zip(X_test,y_poly_pred2), key=sort_axis)\\nsorted_zip7 = sorted(zip(X_test,y_poly_pred7), key=sort_axis)\\nsorted_zip12 = sorted(zip(X_test,y_poly_pred12), key=sort_axis)\\nsorted_zip17 = sorted(zip(X_test,y_poly_pred17), key=sort_axis)\\n#sorted_zip18 = sorted(zip(X_test,y_poly_pred18), key=sort_axis)\\n\\nX_test, y_poly_pred17 = zip(*sorted_zip7)\\n\\nplt.plot(X_test, y_poly_pred17,label=\\'7-degree\\')\\n\\nplt.xlabel(\"Glucose\")\\nplt.ylabel(\"Insulin\")\\n\\nplt.legend()\\n\\nplt.show()\\n\\n'"
      ]
     },
     "execution_count": 37,
     "metadata": {},
     "output_type": "execute_result"
    }
   ],
   "source": [
    "\"\"\"\"\n",
    "#fig, axes = plt.subplots(2,2)\n",
    "# plot the 3 sets\n",
    "\n",
    "plt.scatter(X_test, y_test, s=10)\n",
    "# sort the values of x before line plot\n",
    "sort_axis = operator.itemgetter(0)\n",
    "sorted_zip2 = sorted(zip(X_test,y_poly_pred2), key=sort_axis)\n",
    "sorted_zip7 = sorted(zip(X_test,y_poly_pred7), key=sort_axis)\n",
    "sorted_zip12 = sorted(zip(X_test,y_poly_pred12), key=sort_axis)\n",
    "sorted_zip17 = sorted(zip(X_test,y_poly_pred17), key=sort_axis)\n",
    "#sorted_zip18 = sorted(zip(X_test,y_poly_pred18), key=sort_axis)\n",
    "\n",
    "X_test, y_poly_pred17 = zip(*sorted_zip7)\n",
    "\n",
    "plt.plot(X_test, y_poly_pred17,label='7-degree')\n",
    "\n",
    "plt.xlabel(\"Glucose\")\n",
    "plt.ylabel(\"Insulin\")\n",
    "\n",
    "plt.legend()\n",
    "\n",
    "plt.show()\n",
    "\n",
    "\"\"\""
   ]
  },
  {
   "cell_type": "code",
   "execution_count": 38,
   "id": "d89941f3",
   "metadata": {},
   "outputs": [
    {
     "data": {
      "text/plain": [
       "\"\\nfig, axes = plt.subplots(2,2)\\n# plot the 3 sets\\nplt.plot(X_test, y_poly_pred2,label='2-degree')\\nplt.plot(X_test, y_poly_pred7,label='7-degree')\\nplt.plot(X_test, y_poly_pred12,label='12-degree')\\nplt.plot(X_test, y_poly_pred17,label='17-degree')\\n\\n\\n# one plot on each subplot\\naxes[0][0].scatter(x,y1)\\naxes[0][1].bar(x,y1)\\naxes[1][0].scatter(x,y2)\\naxes[1][1].plot(x,y2)\\n\\n# you can set a legend for a single subplot\\naxes[1][1].legend(['plot 4'])\\n# call with no parameters\\nplt.legend()\\n\\nplt.show()\\n\""
      ]
     },
     "execution_count": 38,
     "metadata": {},
     "output_type": "execute_result"
    }
   ],
   "source": [
    "\"\"\"\n",
    "fig, axes = plt.subplots(2,2)\n",
    "# plot the 3 sets\n",
    "plt.plot(X_test, y_poly_pred2,label='2-degree')\n",
    "plt.plot(X_test, y_poly_pred7,label='7-degree')\n",
    "plt.plot(X_test, y_poly_pred12,label='12-degree')\n",
    "plt.plot(X_test, y_poly_pred17,label='17-degree')\n",
    "\n",
    "\n",
    "# one plot on each subplot\n",
    "axes[0][0].scatter(x,y1)\n",
    "axes[0][1].bar(x,y1)\n",
    "axes[1][0].scatter(x,y2)\n",
    "axes[1][1].plot(x,y2)\n",
    "\n",
    "# you can set a legend for a single subplot\n",
    "axes[1][1].legend(['plot 4'])\n",
    "# call with no parameters\n",
    "plt.legend()\n",
    "\n",
    "plt.show()\n",
    "\"\"\""
   ]
  },
  {
   "cell_type": "code",
   "execution_count": null,
   "id": "3835265a",
   "metadata": {},
   "outputs": [],
   "source": [
    "#new_df = pd.DataFrame([[141,44]])\n",
    "new_df = pd.read_csv('poly-pred.csv',encoding='latin1')\n",
    "new_df  = new_df[[\"Glucose\"]]\n",
    "new_df.head()"
   ]
  },
  {
   "cell_type": "code",
   "execution_count": 40,
   "id": "4334db15",
   "metadata": {},
   "outputs": [],
   "source": [
    "new_d = new_df.to_numpy()\n",
    "newdf_poly = polynomial_features7.fit_transform(new_d)\n"
   ]
  },
  {
   "cell_type": "code",
   "execution_count": 41,
   "id": "ffb87e16",
   "metadata": {},
   "outputs": [],
   "source": [
    "# We predict the outcome\n",
    "prediction = model.predict(newdf_poly)\n",
    "prediction = prediction.astype(int)"
   ]
  },
  {
   "cell_type": "code",
   "execution_count": null,
   "id": "52d2b427",
   "metadata": {},
   "outputs": [],
   "source": [
    "new_df['Insulin'] = prediction\n",
    "new_df.head()"
   ]
  },
  {
   "cell_type": "code",
   "execution_count": 43,
   "id": "fb595fbb",
   "metadata": {},
   "outputs": [],
   "source": [
    "new_df.to_csv('pred-insulin-7.csv',index=False, header=True)"
   ]
  }
 ],
 "metadata": {
  "kernelspec": {
   "display_name": "Python 3",
   "language": "python",
   "name": "python3"
  },
  "language_info": {
   "codemirror_mode": {
    "name": "ipython",
    "version": 3
   },
   "file_extension": ".py",
   "mimetype": "text/x-python",
   "name": "python",
   "nbconvert_exporter": "python",
   "pygments_lexer": "ipython3",
   "version": "3.8.8"
  }
 },
 "nbformat": 4,
 "nbformat_minor": 5
}
