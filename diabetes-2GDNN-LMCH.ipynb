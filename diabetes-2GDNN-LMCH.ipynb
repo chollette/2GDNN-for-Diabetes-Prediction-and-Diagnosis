{
 "cells": [
  {
   "cell_type": "markdown",
   "metadata": {},
   "source": [
    "MIT License\n",
    "\n",
    "Copyright (c) 2021 Chollette Olisah\n",
    "\n",
    "Permission is hereby granted, free of charge, to any person obtaining a copy of this software and associated documentation files (the \"Software\"), to deal in the Software without restriction, including without limitation the rights to use, copy, modify, merge, publish, distribute, sublicense, and/or sell copies of the Software, and to permit persons to whom the Software is furnished to do so, subject to the following conditions:\n",
    "\n",
    "The above copyright notice and this permission notice shall be included in all copies or substantial portions of the Software.\n",
    "\n",
    "THE SOFTWARE IS PROVIDED \"AS IS\", WITHOUT WARRANTY OF ANY KIND, EXPRESS OR IMPLIED, INCLUDING BUT NOT LIMITED TO THE WARRANTIES OF MERCHANTABILITY, FITNESS FOR A PARTICULAR PURPOSE AND NONINFRINGEMENT. IN NO EVENT SHALL THE AUTHORS OR COPYRIGHT HOLDERS BE LIABLE FOR ANY CLAIM, DAMAGES OR OTHER LIABILITY, WHETHER IN AN ACTION OF CONTRACT, TORT OR OTHERWISE, ARISING FROM, OUT OF OR IN CONNECTION WITH THE SOFTWARE OR THE USE OR OTHER DEALINGS IN THE SOFTWARE."
   ]
  },
  {
   "cell_type": "code",
   "execution_count": 2,
   "metadata": {
    "colab": {
     "base_uri": "https://localhost:8080/"
    },
    "id": "PetSD0sotuqk",
    "outputId": "c3683e54-a639-499a-c16d-5ed46c53488e"
   },
   "outputs": [
    {
     "name": "stdout",
     "output_type": "stream",
     "text": [
      "2.6.0\n"
     ]
    }
   ],
   "source": [
    "import tensorflow as tf\n",
    "import numpy as np\n",
    "import pandas as pd\n",
    "import matplotlib.pyplot as plt\n",
    "%matplotlib inline\n",
    "import tensorflow as tf\n",
    "from datetime import datetime\n",
    "from tensorflow import keras\n",
    "from keras.layers import Dense\n",
    "from sklearn import metrics\n",
    "from tensorflow.keras import layers\n",
    "from keras.utils import np_utils\n",
    "from sklearn.model_selection import KFold\n",
    "from keras.callbacks import ModelCheckpoint\n",
    "from sklearn.metrics import roc_curve, auc\n",
    "from sklearn.pipeline import Pipeline\n",
    "# multi-class classification with Keras\n",
    "from keras.models import Sequential\n",
    "from sklearn.preprocessing import LabelEncoder\n",
    "from keras.utils.np_utils import to_categorical\n",
    "from sklearn.model_selection import train_test_split\n",
    "from sklearn.model_selection import cross_val_score\n",
    "from keras.wrappers.scikit_learn import KerasClassifier\n",
    "from tensorflow.keras.layers.experimental import preprocessing\n",
    "from sklearn.metrics import confusion_matrix, classification_report, accuracy_score\n",
    "print(tf.__version__)"
   ]
  },
  {
   "cell_type": "code",
   "execution_count": 3,
   "metadata": {
    "colab": {
     "base_uri": "https://localhost:8080/",
     "height": 206
    },
    "id": "mvnIrm5_v8d2",
    "outputId": "28cf4d96-9e89-4610-b672-613973649a1a"
   },
   "outputs": [
    {
     "data": {
      "text/html": [
       "<div>\n",
       "<style scoped>\n",
       "    .dataframe tbody tr th:only-of-type {\n",
       "        vertical-align: middle;\n",
       "    }\n",
       "\n",
       "    .dataframe tbody tr th {\n",
       "        vertical-align: top;\n",
       "    }\n",
       "\n",
       "    .dataframe thead th {\n",
       "        text-align: right;\n",
       "    }\n",
       "</style>\n",
       "<table border=\"1\" class=\"dataframe\">\n",
       "  <thead>\n",
       "    <tr style=\"text-align: right;\">\n",
       "      <th></th>\n",
       "      <th>AGE</th>\n",
       "      <th>HbA1c</th>\n",
       "      <th>Chol</th>\n",
       "      <th>TG</th>\n",
       "      <th>VLDL</th>\n",
       "      <th>BMI</th>\n",
       "      <th>Outcome</th>\n",
       "    </tr>\n",
       "  </thead>\n",
       "  <tbody>\n",
       "    <tr>\n",
       "      <th>0</th>\n",
       "      <td>50</td>\n",
       "      <td>4.9</td>\n",
       "      <td>4.2</td>\n",
       "      <td>0.9</td>\n",
       "      <td>0.5</td>\n",
       "      <td>24.0</td>\n",
       "      <td>0</td>\n",
       "    </tr>\n",
       "    <tr>\n",
       "      <th>1</th>\n",
       "      <td>26</td>\n",
       "      <td>4.9</td>\n",
       "      <td>3.7</td>\n",
       "      <td>1.4</td>\n",
       "      <td>0.6</td>\n",
       "      <td>23.0</td>\n",
       "      <td>0</td>\n",
       "    </tr>\n",
       "    <tr>\n",
       "      <th>2</th>\n",
       "      <td>50</td>\n",
       "      <td>4.9</td>\n",
       "      <td>4.2</td>\n",
       "      <td>0.9</td>\n",
       "      <td>0.5</td>\n",
       "      <td>24.0</td>\n",
       "      <td>0</td>\n",
       "    </tr>\n",
       "    <tr>\n",
       "      <th>3</th>\n",
       "      <td>50</td>\n",
       "      <td>4.9</td>\n",
       "      <td>4.2</td>\n",
       "      <td>0.9</td>\n",
       "      <td>0.5</td>\n",
       "      <td>24.0</td>\n",
       "      <td>0</td>\n",
       "    </tr>\n",
       "    <tr>\n",
       "      <th>4</th>\n",
       "      <td>33</td>\n",
       "      <td>4.9</td>\n",
       "      <td>4.9</td>\n",
       "      <td>1.0</td>\n",
       "      <td>0.4</td>\n",
       "      <td>21.0</td>\n",
       "      <td>0</td>\n",
       "    </tr>\n",
       "  </tbody>\n",
       "</table>\n",
       "</div>"
      ],
      "text/plain": [
       "   AGE  HbA1c  Chol   TG  VLDL   BMI  Outcome\n",
       "0   50    4.9   4.2  0.9   0.5  24.0        0\n",
       "1   26    4.9   3.7  1.4   0.6  23.0        0\n",
       "2   50    4.9   4.2  0.9   0.5  24.0        0\n",
       "3   50    4.9   4.2  0.9   0.5  24.0        0\n",
       "4   33    4.9   4.9  1.0   0.4  21.0        0"
      ]
     },
     "execution_count": 3,
     "metadata": {},
     "output_type": "execute_result"
    }
   ],
   "source": [
    "\n",
    "# Read in data as pandas dataframe and display first 5 rows\n",
    "data = pd.read_csv('selected_sklearn3.csv')\n",
    "data.head(5)"
   ]
  },
  {
   "cell_type": "code",
   "execution_count": 4,
   "metadata": {
    "id": "uR3K6GUmYniD"
   },
   "outputs": [],
   "source": [
    "#Label Encoding\n",
    "labels = data['Outcome']\n",
    "# encode class values as integers\n",
    "encoder = LabelEncoder()\n",
    "encoder.fit(labels)\n",
    "encoded_Y = encoder.transform(labels)\n",
    "# convert integers to dummy variables (i.e. one hot encoded)\n",
    "dummy_y = to_categorical(encoded_Y)\n",
    " "
   ]
  },
  {
   "cell_type": "code",
   "execution_count": 6,
   "metadata": {
    "id": "hK12mL2wOnGO"
   },
   "outputs": [],
   "source": [
    "# Remove the labels from the features\n",
    "# axis 1 refers to the columns\n",
    "data= data.drop('Outcome', axis = 1)\n",
    "\n",
    "# Saving feature names for later use\n",
    "data_list = list(data.columns)\n",
    "\n",
    "# Convert to numpy array\n",
    "data = np.array(data)"
   ]
  },
  {
   "cell_type": "code",
   "execution_count": 26,
   "metadata": {
    "colab": {
     "base_uri": "https://localhost:8080/"
    },
    "id": "OwWWMMjxyOgr",
    "outputId": "ff7bee30-310c-408a-80e8-2a7903912658"
   },
   "outputs": [
    {
     "name": "stdout",
     "output_type": "stream",
     "text": [
      "Training Features Shape: (700, 6)\n",
      "Training Labels Shape: (700, 3)\n",
      "Testing Features Shape: (150, 6)\n",
      "Testing Labels Shape: (150, 3)\n",
      "Validation Features Shape: (150, 6)\n",
      "Validation Label Shape: (150, 3)\n"
     ]
    }
   ],
   "source": [
    "# Split the data into training and testing sets\n",
    "train_features, val_test_features, train_labels, val_test_labels = train_test_split(data, dummy_y, shuffle=True, test_size = 0.3,\n",
    "                                                                           random_state = 42)\n",
    "X_val, X_test, Y_val, Y_test = train_test_split(val_test_features, val_test_labels, shuffle=True, test_size=0.5)\n",
    "print('Training Features Shape:', train_features.shape)\n",
    "print('Training Labels Shape:', train_labels.shape)\n",
    "print('Testing Features Shape:', X_test.shape)\n",
    "print('Testing Labels Shape:', Y_test.shape)\n",
    "print('Validation Features Shape:', X_val.shape)\n",
    "print('Validation Label Shape:', Y_val.shape)"
   ]
  },
  {
   "cell_type": "code",
   "execution_count": 27,
   "metadata": {
    "colab": {
     "base_uri": "https://localhost:8080/"
    },
    "id": "NTXpSGB_SeNu",
    "outputId": "7ce06e92-3eba-406a-fbb7-7ca2fb2859ea"
   },
   "outputs": [
    {
     "name": "stdout",
     "output_type": "stream",
     "text": [
      "[[53.372852   8.311571   4.8518853  2.3518286  1.8732857 29.588064 ]]\n",
      "First example: [[60.   7.6  3.3  1.7  0.8 36.6]]\n",
      "\n",
      "Normalized: [[ 0.76 -0.28 -1.17 -0.47 -0.29  1.4 ]]\n"
     ]
    }
   ],
   "source": [
    "# normalize train set using the keras nomalizer \n",
    "normalizer = preprocessing.Normalization(axis=-1)\n",
    "normalizer.adapt(np.array(train_features))\n",
    "\n",
    "print(normalizer.mean.numpy())\n",
    "\n",
    "first = np.array(train_features[:1])\n",
    "\n",
    "with np.printoptions(precision=2, suppress=True):\n",
    "  print('First example:', first)\n",
    "  print()\n",
    "  print('Normalized:', normalizer(first).numpy())"
   ]
  },
  {
   "cell_type": "markdown",
   "metadata": {
    "id": "BEtcQb6OCutw"
   },
   "source": [
    "main model designed"
   ]
  },
  {
   "cell_type": "code",
   "execution_count": 30,
   "metadata": {
    "id": "EK0nJ2v_gcvD"
   },
   "outputs": [],
   "source": [
    "def create_model(data):\n",
    "  model = keras.Sequential([\n",
    "      data,\n",
    "      layers.Dense(12, activation='relu'),\n",
    "      layers.Dense(12, activation='relu'),\n",
    "      layers.Dense(24, activation='relu'),\n",
    "      layers.Dense(24, activation='relu'),\n",
    "      layers.Dense(3, activation=\"softmax\")\n",
    "  ])\n",
    "  model.compile(loss='categorical_crossentropy', optimizer='RMSprop', metrics=['accuracy'])\n",
    "  return model"
   ]
  },
  {
   "cell_type": "code",
   "execution_count": 31,
   "metadata": {
    "id": "hwVD2m2O5vj_"
   },
   "outputs": [],
   "source": [
    "model1 = create_model(normalizer)"
   ]
  },
  {
   "cell_type": "code",
   "execution_count": 32,
   "metadata": {
    "colab": {
     "base_uri": "https://localhost:8080/"
    },
    "id": "dYarqPr96y0T",
    "outputId": "44c76026-3bf5-4c3e-eeb5-a4c62a7a327e"
   },
   "outputs": [
    {
     "name": "stdout",
     "output_type": "stream",
     "text": [
      "Model: \"sequential_1\"\n",
      "_________________________________________________________________\n",
      "Layer (type)                 Output Shape              Param #   \n",
      "=================================================================\n",
      "normalization_1 (Normalizati (None, 6)                 13        \n",
      "_________________________________________________________________\n",
      "dense_5 (Dense)              (None, 12)                84        \n",
      "_________________________________________________________________\n",
      "dense_6 (Dense)              (None, 12)                156       \n",
      "_________________________________________________________________\n",
      "dense_7 (Dense)              (None, 24)                312       \n",
      "_________________________________________________________________\n",
      "dense_8 (Dense)              (None, 24)                600       \n",
      "_________________________________________________________________\n",
      "dense_9 (Dense)              (None, 3)                 75        \n",
      "=================================================================\n",
      "Total params: 1,240\n",
      "Trainable params: 1,227\n",
      "Non-trainable params: 13\n",
      "_________________________________________________________________\n"
     ]
    }
   ],
   "source": [
    "model1.summary()"
   ]
  },
  {
   "cell_type": "code",
   "execution_count": 33,
   "metadata": {
    "colab": {
     "base_uri": "https://localhost:8080/"
    },
    "id": "3gyI2JTkVs9X",
    "outputId": "7e9bae75-79d8-4fb2-f668-9f5d9c3a8387"
   },
   "outputs": [
    {
     "name": "stdout",
     "output_type": "stream",
     "text": [
      "Epoch 1/200\n",
      "140/140 [==============================] - 1s 4ms/step - loss: 0.5001 - accuracy: 0.8414 - val_loss: 0.2598 - val_accuracy: 0.8533\n",
      "Epoch 2/200\n",
      "140/140 [==============================] - 0s 2ms/step - loss: 0.2866 - accuracy: 0.8757 - val_loss: 0.2150 - val_accuracy: 0.9200\n",
      "Epoch 3/200\n",
      "140/140 [==============================] - 0s 1ms/step - loss: 0.2539 - accuracy: 0.8786 - val_loss: 0.1891 - val_accuracy: 0.9267\n",
      "Epoch 4/200\n",
      "140/140 [==============================] - 0s 2ms/step - loss: 0.2434 - accuracy: 0.8886 - val_loss: 0.1910 - val_accuracy: 0.9200\n",
      "Epoch 5/200\n",
      "140/140 [==============================] - 0s 2ms/step - loss: 0.2266 - accuracy: 0.8957 - val_loss: 0.1971 - val_accuracy: 0.9133\n",
      "Epoch 6/200\n",
      "140/140 [==============================] - 0s 1ms/step - loss: 0.2192 - accuracy: 0.9014 - val_loss: 0.1589 - val_accuracy: 0.9400\n",
      "Epoch 7/200\n",
      "140/140 [==============================] - 0s 1ms/step - loss: 0.2122 - accuracy: 0.9000 - val_loss: 0.1613 - val_accuracy: 0.9400\n",
      "Epoch 8/200\n",
      "140/140 [==============================] - 0s 1ms/step - loss: 0.2023 - accuracy: 0.9086 - val_loss: 0.1605 - val_accuracy: 0.9333\n",
      "Epoch 9/200\n",
      "140/140 [==============================] - 0s 1ms/step - loss: 0.1957 - accuracy: 0.9214 - val_loss: 0.1490 - val_accuracy: 0.9400\n",
      "Epoch 10/200\n",
      "140/140 [==============================] - 0s 2ms/step - loss: 0.1822 - accuracy: 0.9271 - val_loss: 0.1346 - val_accuracy: 0.9400\n",
      "Epoch 11/200\n",
      "140/140 [==============================] - 0s 1ms/step - loss: 0.1760 - accuracy: 0.9214 - val_loss: 0.1309 - val_accuracy: 0.9400\n",
      "Epoch 12/200\n",
      "140/140 [==============================] - 0s 2ms/step - loss: 0.1713 - accuracy: 0.9286 - val_loss: 0.1228 - val_accuracy: 0.9467\n",
      "Epoch 13/200\n",
      "140/140 [==============================] - 0s 1ms/step - loss: 0.1670 - accuracy: 0.9414 - val_loss: 0.1177 - val_accuracy: 0.9467\n",
      "Epoch 14/200\n",
      "140/140 [==============================] - 0s 1ms/step - loss: 0.1562 - accuracy: 0.9357 - val_loss: 0.1205 - val_accuracy: 0.9467\n",
      "Epoch 15/200\n",
      "140/140 [==============================] - 0s 1ms/step - loss: 0.1497 - accuracy: 0.9414 - val_loss: 0.1133 - val_accuracy: 0.9533\n",
      "Epoch 16/200\n",
      "140/140 [==============================] - 0s 1ms/step - loss: 0.1406 - accuracy: 0.9486 - val_loss: 0.1100 - val_accuracy: 0.9533\n",
      "Epoch 17/200\n",
      "140/140 [==============================] - 0s 1ms/step - loss: 0.1382 - accuracy: 0.9471 - val_loss: 0.0989 - val_accuracy: 0.9600\n",
      "Epoch 18/200\n",
      "140/140 [==============================] - 0s 1ms/step - loss: 0.1300 - accuracy: 0.9500 - val_loss: 0.0947 - val_accuracy: 0.9533\n",
      "Epoch 19/200\n",
      "140/140 [==============================] - 0s 1ms/step - loss: 0.1247 - accuracy: 0.9614 - val_loss: 0.0888 - val_accuracy: 0.9667\n",
      "Epoch 20/200\n",
      "140/140 [==============================] - 0s 2ms/step - loss: 0.1143 - accuracy: 0.9614 - val_loss: 0.0830 - val_accuracy: 0.9667\n",
      "Epoch 21/200\n",
      "140/140 [==============================] - 0s 1ms/step - loss: 0.1121 - accuracy: 0.9600 - val_loss: 0.0918 - val_accuracy: 0.9667\n",
      "Epoch 22/200\n",
      "140/140 [==============================] - 0s 1ms/step - loss: 0.1060 - accuracy: 0.9629 - val_loss: 0.0782 - val_accuracy: 0.9667\n",
      "Epoch 23/200\n",
      "140/140 [==============================] - 0s 1ms/step - loss: 0.1008 - accuracy: 0.9629 - val_loss: 0.0780 - val_accuracy: 0.9667\n",
      "Epoch 24/200\n",
      "140/140 [==============================] - 0s 1ms/step - loss: 0.0986 - accuracy: 0.9629 - val_loss: 0.0752 - val_accuracy: 0.9600\n",
      "Epoch 25/200\n",
      "140/140 [==============================] - 0s 1ms/step - loss: 0.0888 - accuracy: 0.9729 - val_loss: 0.0773 - val_accuracy: 0.9600\n",
      "Epoch 26/200\n",
      "140/140 [==============================] - 0s 1ms/step - loss: 0.0889 - accuracy: 0.9686 - val_loss: 0.0724 - val_accuracy: 0.9600\n",
      "Epoch 27/200\n",
      "140/140 [==============================] - 0s 1ms/step - loss: 0.0911 - accuracy: 0.9686 - val_loss: 0.0708 - val_accuracy: 0.9600\n",
      "Epoch 28/200\n",
      "140/140 [==============================] - 0s 1ms/step - loss: 0.0865 - accuracy: 0.9714 - val_loss: 0.0609 - val_accuracy: 0.9600\n",
      "Epoch 29/200\n",
      "140/140 [==============================] - 0s 1ms/step - loss: 0.0797 - accuracy: 0.9714 - val_loss: 0.0635 - val_accuracy: 0.9667\n",
      "Epoch 30/200\n",
      "140/140 [==============================] - 0s 2ms/step - loss: 0.0792 - accuracy: 0.9757 - val_loss: 0.0661 - val_accuracy: 0.9667\n",
      "Epoch 31/200\n",
      "140/140 [==============================] - 0s 1ms/step - loss: 0.0794 - accuracy: 0.9743 - val_loss: 0.0603 - val_accuracy: 0.9667\n",
      "Epoch 32/200\n",
      "140/140 [==============================] - 0s 2ms/step - loss: 0.0770 - accuracy: 0.9743 - val_loss: 0.0599 - val_accuracy: 0.9667\n",
      "Epoch 33/200\n",
      "140/140 [==============================] - 0s 2ms/step - loss: 0.0775 - accuracy: 0.9771 - val_loss: 0.0615 - val_accuracy: 0.9733\n",
      "Epoch 34/200\n",
      "140/140 [==============================] - 0s 1ms/step - loss: 0.0743 - accuracy: 0.9757 - val_loss: 0.0604 - val_accuracy: 0.9733\n",
      "Epoch 35/200\n",
      "140/140 [==============================] - 0s 2ms/step - loss: 0.0755 - accuracy: 0.9771 - val_loss: 0.0568 - val_accuracy: 0.9667\n",
      "Epoch 36/200\n",
      "140/140 [==============================] - 0s 2ms/step - loss: 0.0730 - accuracy: 0.9771 - val_loss: 0.0584 - val_accuracy: 0.9733\n",
      "Epoch 37/200\n",
      "140/140 [==============================] - 0s 2ms/step - loss: 0.0749 - accuracy: 0.9757 - val_loss: 0.0578 - val_accuracy: 0.9667\n",
      "Epoch 38/200\n",
      "140/140 [==============================] - 0s 1ms/step - loss: 0.0710 - accuracy: 0.9786 - val_loss: 0.0561 - val_accuracy: 0.9667\n",
      "Epoch 39/200\n",
      "140/140 [==============================] - 0s 2ms/step - loss: 0.0663 - accuracy: 0.9800 - val_loss: 0.0570 - val_accuracy: 0.9667\n",
      "Epoch 40/200\n",
      "140/140 [==============================] - 0s 2ms/step - loss: 0.0672 - accuracy: 0.9814 - val_loss: 0.0536 - val_accuracy: 0.9667\n",
      "Epoch 41/200\n",
      "140/140 [==============================] - 0s 2ms/step - loss: 0.0672 - accuracy: 0.9757 - val_loss: 0.0613 - val_accuracy: 0.9733\n",
      "Epoch 42/200\n",
      "140/140 [==============================] - 0s 2ms/step - loss: 0.0618 - accuracy: 0.9771 - val_loss: 0.0771 - val_accuracy: 0.9600\n",
      "Epoch 43/200\n",
      "140/140 [==============================] - 0s 1ms/step - loss: 0.0643 - accuracy: 0.9771 - val_loss: 0.0560 - val_accuracy: 0.9667\n",
      "Epoch 44/200\n",
      "140/140 [==============================] - 0s 1ms/step - loss: 0.0627 - accuracy: 0.9800 - val_loss: 0.0590 - val_accuracy: 0.9733\n",
      "Epoch 45/200\n",
      "140/140 [==============================] - 0s 2ms/step - loss: 0.0639 - accuracy: 0.9771 - val_loss: 0.0525 - val_accuracy: 0.9667\n",
      "Epoch 46/200\n",
      "140/140 [==============================] - 0s 2ms/step - loss: 0.0594 - accuracy: 0.9786 - val_loss: 0.0511 - val_accuracy: 0.9733\n",
      "Epoch 47/200\n",
      "140/140 [==============================] - 0s 2ms/step - loss: 0.0577 - accuracy: 0.9814 - val_loss: 0.0517 - val_accuracy: 0.9667\n",
      "Epoch 48/200\n",
      "140/140 [==============================] - 0s 1ms/step - loss: 0.0572 - accuracy: 0.9800 - val_loss: 0.0492 - val_accuracy: 0.9800\n",
      "Epoch 49/200\n",
      "140/140 [==============================] - 0s 1ms/step - loss: 0.0548 - accuracy: 0.9814 - val_loss: 0.0503 - val_accuracy: 0.9800\n",
      "Epoch 50/200\n",
      "140/140 [==============================] - 0s 1ms/step - loss: 0.0558 - accuracy: 0.9771 - val_loss: 0.0512 - val_accuracy: 0.9733\n",
      "Epoch 51/200\n",
      "140/140 [==============================] - 0s 1ms/step - loss: 0.0528 - accuracy: 0.9857 - val_loss: 0.0437 - val_accuracy: 0.9867\n",
      "Epoch 52/200\n",
      "140/140 [==============================] - 0s 2ms/step - loss: 0.0516 - accuracy: 0.9814 - val_loss: 0.0524 - val_accuracy: 0.9733\n",
      "Epoch 53/200\n",
      "140/140 [==============================] - 0s 1ms/step - loss: 0.0532 - accuracy: 0.9829 - val_loss: 0.0462 - val_accuracy: 0.9867\n",
      "Epoch 54/200\n",
      "140/140 [==============================] - 0s 1ms/step - loss: 0.0514 - accuracy: 0.9829 - val_loss: 0.0476 - val_accuracy: 0.9733\n",
      "Epoch 55/200\n",
      "140/140 [==============================] - 0s 2ms/step - loss: 0.0484 - accuracy: 0.9829 - val_loss: 0.0516 - val_accuracy: 0.9800\n",
      "Epoch 56/200\n",
      "140/140 [==============================] - 0s 2ms/step - loss: 0.0491 - accuracy: 0.9814 - val_loss: 0.0611 - val_accuracy: 0.9733\n",
      "Epoch 57/200\n",
      "140/140 [==============================] - 0s 1ms/step - loss: 0.0508 - accuracy: 0.9857 - val_loss: 0.0437 - val_accuracy: 0.9800\n"
     ]
    },
    {
     "name": "stdout",
     "output_type": "stream",
     "text": [
      "Epoch 58/200\n",
      "140/140 [==============================] - 0s 1ms/step - loss: 0.0506 - accuracy: 0.9829 - val_loss: 0.0461 - val_accuracy: 0.9867\n",
      "Epoch 59/200\n",
      "140/140 [==============================] - 0s 1ms/step - loss: 0.0477 - accuracy: 0.9814 - val_loss: 0.0542 - val_accuracy: 0.9800\n",
      "Epoch 60/200\n",
      "140/140 [==============================] - 0s 1ms/step - loss: 0.0503 - accuracy: 0.9800 - val_loss: 0.0497 - val_accuracy: 0.9867\n",
      "Epoch 61/200\n",
      "140/140 [==============================] - 0s 1ms/step - loss: 0.0501 - accuracy: 0.9829 - val_loss: 0.0441 - val_accuracy: 0.9867\n",
      "Epoch 62/200\n",
      "140/140 [==============================] - 0s 1ms/step - loss: 0.0461 - accuracy: 0.9814 - val_loss: 0.0452 - val_accuracy: 0.9867\n",
      "Epoch 63/200\n",
      "140/140 [==============================] - 0s 2ms/step - loss: 0.0488 - accuracy: 0.9814 - val_loss: 0.0452 - val_accuracy: 0.9800\n",
      "Epoch 64/200\n",
      "140/140 [==============================] - 0s 2ms/step - loss: 0.0487 - accuracy: 0.9829 - val_loss: 0.0526 - val_accuracy: 0.9867\n",
      "Epoch 65/200\n",
      "140/140 [==============================] - 0s 2ms/step - loss: 0.0461 - accuracy: 0.9829 - val_loss: 0.0393 - val_accuracy: 0.9800\n",
      "Epoch 66/200\n",
      "140/140 [==============================] - 0s 1ms/step - loss: 0.0455 - accuracy: 0.9829 - val_loss: 0.0462 - val_accuracy: 0.9867\n",
      "Epoch 67/200\n",
      "140/140 [==============================] - 0s 1ms/step - loss: 0.0428 - accuracy: 0.9843 - val_loss: 0.0452 - val_accuracy: 0.9867\n",
      "Epoch 68/200\n",
      "140/140 [==============================] - 0s 1ms/step - loss: 0.0462 - accuracy: 0.9843 - val_loss: 0.0381 - val_accuracy: 0.9933\n",
      "Epoch 69/200\n",
      "140/140 [==============================] - 0s 1ms/step - loss: 0.0419 - accuracy: 0.9829 - val_loss: 0.0427 - val_accuracy: 0.9867\n",
      "Epoch 70/200\n",
      "140/140 [==============================] - 0s 1ms/step - loss: 0.0411 - accuracy: 0.9843 - val_loss: 0.0542 - val_accuracy: 0.9800\n",
      "Epoch 71/200\n",
      "140/140 [==============================] - 0s 2ms/step - loss: 0.0424 - accuracy: 0.9829 - val_loss: 0.0436 - val_accuracy: 0.9867\n",
      "Epoch 72/200\n",
      "140/140 [==============================] - 0s 2ms/step - loss: 0.0441 - accuracy: 0.9843 - val_loss: 0.0422 - val_accuracy: 0.9867\n",
      "Epoch 73/200\n",
      "140/140 [==============================] - 0s 2ms/step - loss: 0.0400 - accuracy: 0.9886 - val_loss: 0.0821 - val_accuracy: 0.9667\n",
      "Epoch 74/200\n",
      "140/140 [==============================] - 0s 1ms/step - loss: 0.0467 - accuracy: 0.9843 - val_loss: 0.0679 - val_accuracy: 0.9667\n",
      "Epoch 75/200\n",
      "140/140 [==============================] - 0s 1ms/step - loss: 0.0394 - accuracy: 0.9857 - val_loss: 0.0429 - val_accuracy: 0.9867\n",
      "Epoch 76/200\n",
      "140/140 [==============================] - 0s 1ms/step - loss: 0.0438 - accuracy: 0.9843 - val_loss: 0.0409 - val_accuracy: 0.9867\n",
      "Epoch 77/200\n",
      "140/140 [==============================] - 0s 1ms/step - loss: 0.0411 - accuracy: 0.9829 - val_loss: 0.0402 - val_accuracy: 0.9867\n",
      "Epoch 78/200\n",
      "140/140 [==============================] - 0s 1ms/step - loss: 0.0427 - accuracy: 0.9857 - val_loss: 0.0433 - val_accuracy: 0.9800\n",
      "Epoch 79/200\n",
      "140/140 [==============================] - 0s 1ms/step - loss: 0.0378 - accuracy: 0.9871 - val_loss: 0.0450 - val_accuracy: 0.9867\n",
      "Epoch 80/200\n",
      "140/140 [==============================] - 0s 2ms/step - loss: 0.0419 - accuracy: 0.9814 - val_loss: 0.0330 - val_accuracy: 0.9933\n",
      "Epoch 81/200\n",
      "140/140 [==============================] - 0s 1ms/step - loss: 0.0388 - accuracy: 0.9843 - val_loss: 0.0304 - val_accuracy: 0.9933\n",
      "Epoch 82/200\n",
      "140/140 [==============================] - 0s 1ms/step - loss: 0.0411 - accuracy: 0.9829 - val_loss: 0.0377 - val_accuracy: 0.9800\n",
      "Epoch 83/200\n",
      "140/140 [==============================] - 0s 1ms/step - loss: 0.0385 - accuracy: 0.9871 - val_loss: 0.0391 - val_accuracy: 0.9867\n",
      "Epoch 84/200\n",
      "140/140 [==============================] - 0s 1ms/step - loss: 0.0387 - accuracy: 0.9843 - val_loss: 0.0374 - val_accuracy: 0.9867\n",
      "Epoch 85/200\n",
      "140/140 [==============================] - 0s 2ms/step - loss: 0.0409 - accuracy: 0.9871 - val_loss: 0.0322 - val_accuracy: 0.9867\n",
      "Epoch 86/200\n",
      "140/140 [==============================] - 0s 1ms/step - loss: 0.0378 - accuracy: 0.9871 - val_loss: 0.0424 - val_accuracy: 0.9867\n",
      "Epoch 87/200\n",
      "140/140 [==============================] - 0s 1ms/step - loss: 0.0409 - accuracy: 0.9843 - val_loss: 0.0386 - val_accuracy: 0.9867\n",
      "Epoch 88/200\n",
      "140/140 [==============================] - 0s 1ms/step - loss: 0.0394 - accuracy: 0.9829 - val_loss: 0.0377 - val_accuracy: 0.9867\n",
      "Epoch 89/200\n",
      "140/140 [==============================] - 0s 1ms/step - loss: 0.0374 - accuracy: 0.9886 - val_loss: 0.0400 - val_accuracy: 0.9800\n",
      "Epoch 90/200\n",
      "140/140 [==============================] - 0s 1ms/step - loss: 0.0360 - accuracy: 0.9829 - val_loss: 0.0328 - val_accuracy: 0.9867\n",
      "Epoch 91/200\n",
      "140/140 [==============================] - 0s 1ms/step - loss: 0.0369 - accuracy: 0.9857 - val_loss: 0.0353 - val_accuracy: 0.9867\n",
      "Epoch 92/200\n",
      "140/140 [==============================] - 0s 1ms/step - loss: 0.0396 - accuracy: 0.9871 - val_loss: 0.0338 - val_accuracy: 0.9867\n",
      "Epoch 93/200\n",
      "140/140 [==============================] - 0s 1ms/step - loss: 0.0388 - accuracy: 0.9829 - val_loss: 0.0343 - val_accuracy: 0.9933\n",
      "Epoch 94/200\n",
      "140/140 [==============================] - 0s 1ms/step - loss: 0.0389 - accuracy: 0.9857 - val_loss: 0.0346 - val_accuracy: 0.9800\n",
      "Epoch 95/200\n",
      "140/140 [==============================] - 0s 1ms/step - loss: 0.0363 - accuracy: 0.9829 - val_loss: 0.0444 - val_accuracy: 0.9800\n",
      "Epoch 96/200\n",
      "140/140 [==============================] - 0s 1ms/step - loss: 0.0362 - accuracy: 0.9857 - val_loss: 0.0340 - val_accuracy: 0.9867\n",
      "Epoch 97/200\n",
      "140/140 [==============================] - 0s 2ms/step - loss: 0.0384 - accuracy: 0.9843 - val_loss: 0.0388 - val_accuracy: 0.9800\n",
      "Epoch 98/200\n",
      "140/140 [==============================] - 0s 1ms/step - loss: 0.0369 - accuracy: 0.9857 - val_loss: 0.0459 - val_accuracy: 0.9800\n",
      "Epoch 99/200\n",
      "140/140 [==============================] - 0s 1ms/step - loss: 0.0375 - accuracy: 0.9843 - val_loss: 0.0423 - val_accuracy: 0.9733\n",
      "Epoch 100/200\n",
      "140/140 [==============================] - 0s 1ms/step - loss: 0.0366 - accuracy: 0.9871 - val_loss: 0.0349 - val_accuracy: 0.9800\n",
      "Epoch 101/200\n",
      "140/140 [==============================] - 0s 1ms/step - loss: 0.0336 - accuracy: 0.9886 - val_loss: 0.0296 - val_accuracy: 0.9800\n",
      "Epoch 102/200\n",
      "140/140 [==============================] - 0s 1ms/step - loss: 0.0376 - accuracy: 0.9829 - val_loss: 0.0422 - val_accuracy: 0.9800\n",
      "Epoch 103/200\n",
      "140/140 [==============================] - 0s 1ms/step - loss: 0.0369 - accuracy: 0.9871 - val_loss: 0.0307 - val_accuracy: 0.9933\n",
      "Epoch 104/200\n",
      "140/140 [==============================] - 0s 1ms/step - loss: 0.0352 - accuracy: 0.9843 - val_loss: 0.0349 - val_accuracy: 0.9867\n",
      "Epoch 105/200\n",
      "140/140 [==============================] - 0s 1ms/step - loss: 0.0298 - accuracy: 0.9871 - val_loss: 0.0837 - val_accuracy: 0.9667\n",
      "Epoch 106/200\n",
      "140/140 [==============================] - 0s 1ms/step - loss: 0.0425 - accuracy: 0.9843 - val_loss: 0.0326 - val_accuracy: 0.9800\n",
      "Epoch 107/200\n",
      "140/140 [==============================] - 0s 1ms/step - loss: 0.0354 - accuracy: 0.9871 - val_loss: 0.0391 - val_accuracy: 0.9800\n",
      "Epoch 108/200\n",
      "140/140 [==============================] - 0s 1ms/step - loss: 0.0391 - accuracy: 0.9829 - val_loss: 0.0350 - val_accuracy: 0.9733\n",
      "Epoch 109/200\n",
      "140/140 [==============================] - 0s 1ms/step - loss: 0.0360 - accuracy: 0.9871 - val_loss: 0.0349 - val_accuracy: 0.9867\n",
      "Epoch 110/200\n",
      "140/140 [==============================] - 0s 1ms/step - loss: 0.0346 - accuracy: 0.9871 - val_loss: 0.0395 - val_accuracy: 0.9800\n",
      "Epoch 111/200\n",
      "140/140 [==============================] - 0s 1ms/step - loss: 0.0363 - accuracy: 0.9857 - val_loss: 0.0417 - val_accuracy: 0.9800\n",
      "Epoch 112/200\n",
      "140/140 [==============================] - 0s 1ms/step - loss: 0.0338 - accuracy: 0.9857 - val_loss: 0.0468 - val_accuracy: 0.9800\n",
      "Epoch 113/200\n",
      "140/140 [==============================] - 0s 1ms/step - loss: 0.0385 - accuracy: 0.9871 - val_loss: 0.0409 - val_accuracy: 0.9733\n",
      "Epoch 114/200\n",
      "140/140 [==============================] - 0s 1ms/step - loss: 0.0337 - accuracy: 0.9886 - val_loss: 0.0408 - val_accuracy: 0.9800\n"
     ]
    },
    {
     "name": "stdout",
     "output_type": "stream",
     "text": [
      "Epoch 115/200\n",
      "140/140 [==============================] - 0s 1ms/step - loss: 0.0339 - accuracy: 0.9871 - val_loss: 0.0419 - val_accuracy: 0.9867\n",
      "Epoch 116/200\n",
      "140/140 [==============================] - 0s 1ms/step - loss: 0.0354 - accuracy: 0.9871 - val_loss: 0.0398 - val_accuracy: 0.9800\n",
      "Epoch 117/200\n",
      "140/140 [==============================] - 0s 1ms/step - loss: 0.0321 - accuracy: 0.9871 - val_loss: 0.0387 - val_accuracy: 0.9867\n",
      "Epoch 118/200\n",
      "140/140 [==============================] - 0s 1ms/step - loss: 0.0327 - accuracy: 0.9871 - val_loss: 0.0525 - val_accuracy: 0.9867\n",
      "Epoch 119/200\n",
      "140/140 [==============================] - 0s 1ms/step - loss: 0.0384 - accuracy: 0.9900 - val_loss: 0.0458 - val_accuracy: 0.9867\n",
      "Epoch 120/200\n",
      "140/140 [==============================] - 0s 1ms/step - loss: 0.0360 - accuracy: 0.9886 - val_loss: 0.0391 - val_accuracy: 0.9933\n",
      "Epoch 121/200\n",
      "140/140 [==============================] - 0s 1ms/step - loss: 0.0340 - accuracy: 0.9900 - val_loss: 0.0479 - val_accuracy: 0.9867\n",
      "Epoch 122/200\n",
      "140/140 [==============================] - 0s 1ms/step - loss: 0.0323 - accuracy: 0.9886 - val_loss: 0.0406 - val_accuracy: 0.9867\n",
      "Epoch 123/200\n",
      "140/140 [==============================] - 0s 1ms/step - loss: 0.0315 - accuracy: 0.9886 - val_loss: 0.0484 - val_accuracy: 0.9867\n",
      "Epoch 124/200\n",
      "140/140 [==============================] - 0s 1ms/step - loss: 0.0306 - accuracy: 0.9871 - val_loss: 0.0657 - val_accuracy: 0.9733\n",
      "Epoch 125/200\n",
      "140/140 [==============================] - 0s 1ms/step - loss: 0.0329 - accuracy: 0.9886 - val_loss: 0.0415 - val_accuracy: 0.9867\n",
      "Epoch 126/200\n",
      "140/140 [==============================] - 0s 1ms/step - loss: 0.0298 - accuracy: 0.9914 - val_loss: 0.0796 - val_accuracy: 0.9533\n",
      "Epoch 127/200\n",
      "140/140 [==============================] - 0s 1ms/step - loss: 0.0304 - accuracy: 0.9886 - val_loss: 0.0448 - val_accuracy: 0.9867\n",
      "Epoch 128/200\n",
      "140/140 [==============================] - 0s 1ms/step - loss: 0.0267 - accuracy: 0.9886 - val_loss: 0.0389 - val_accuracy: 0.9933\n",
      "Epoch 129/200\n",
      "140/140 [==============================] - 0s 1ms/step - loss: 0.0332 - accuracy: 0.9857 - val_loss: 0.0533 - val_accuracy: 0.9867\n",
      "Epoch 130/200\n",
      "140/140 [==============================] - 0s 1ms/step - loss: 0.0252 - accuracy: 0.9886 - val_loss: 0.0784 - val_accuracy: 0.9800\n",
      "Epoch 131/200\n",
      "140/140 [==============================] - 0s 1ms/step - loss: 0.0299 - accuracy: 0.9900 - val_loss: 0.0489 - val_accuracy: 0.9933\n",
      "Epoch 132/200\n",
      "140/140 [==============================] - 0s 1ms/step - loss: 0.0286 - accuracy: 0.9900 - val_loss: 0.0533 - val_accuracy: 0.9933\n",
      "Epoch 133/200\n",
      "140/140 [==============================] - 0s 1ms/step - loss: 0.0270 - accuracy: 0.9886 - val_loss: 0.0501 - val_accuracy: 0.9933\n",
      "Epoch 134/200\n",
      "140/140 [==============================] - 0s 1ms/step - loss: 0.0279 - accuracy: 0.9900 - val_loss: 0.0508 - val_accuracy: 0.9867\n",
      "Epoch 135/200\n",
      "140/140 [==============================] - 0s 1ms/step - loss: 0.0335 - accuracy: 0.9871 - val_loss: 0.0569 - val_accuracy: 0.9867\n",
      "Epoch 136/200\n",
      "140/140 [==============================] - 0s 1ms/step - loss: 0.0287 - accuracy: 0.9914 - val_loss: 0.0547 - val_accuracy: 0.9867\n",
      "Epoch 137/200\n",
      "140/140 [==============================] - 0s 1ms/step - loss: 0.0282 - accuracy: 0.9871 - val_loss: 0.0563 - val_accuracy: 0.9867\n",
      "Epoch 138/200\n",
      "140/140 [==============================] - 0s 1ms/step - loss: 0.0308 - accuracy: 0.9900 - val_loss: 0.0495 - val_accuracy: 0.9933\n",
      "Epoch 139/200\n",
      "140/140 [==============================] - 0s 1ms/step - loss: 0.0231 - accuracy: 0.9900 - val_loss: 0.0472 - val_accuracy: 0.9867\n",
      "Epoch 140/200\n",
      "140/140 [==============================] - 0s 1ms/step - loss: 0.0303 - accuracy: 0.9900 - val_loss: 0.0504 - val_accuracy: 0.9867\n",
      "Epoch 141/200\n",
      "140/140 [==============================] - 0s 1ms/step - loss: 0.0234 - accuracy: 0.9914 - val_loss: 0.0662 - val_accuracy: 0.9800\n",
      "Epoch 142/200\n",
      "140/140 [==============================] - 0s 1ms/step - loss: 0.0294 - accuracy: 0.9886 - val_loss: 0.0581 - val_accuracy: 0.9867\n",
      "Epoch 143/200\n",
      "140/140 [==============================] - 0s 1ms/step - loss: 0.0342 - accuracy: 0.9900 - val_loss: 0.0476 - val_accuracy: 0.9933\n",
      "Epoch 144/200\n",
      "140/140 [==============================] - 0s 1ms/step - loss: 0.0292 - accuracy: 0.9900 - val_loss: 0.0580 - val_accuracy: 0.9867\n",
      "Epoch 145/200\n",
      "140/140 [==============================] - 0s 1ms/step - loss: 0.0264 - accuracy: 0.9914 - val_loss: 0.0744 - val_accuracy: 0.9800\n",
      "Epoch 146/200\n",
      "140/140 [==============================] - 0s 1ms/step - loss: 0.0282 - accuracy: 0.9929 - val_loss: 0.0488 - val_accuracy: 0.9867\n",
      "Epoch 147/200\n",
      "140/140 [==============================] - 0s 1ms/step - loss: 0.0263 - accuracy: 0.9886 - val_loss: 0.0515 - val_accuracy: 0.9933\n",
      "Epoch 148/200\n",
      "140/140 [==============================] - 0s 1ms/step - loss: 0.0245 - accuracy: 0.9900 - val_loss: 0.0633 - val_accuracy: 0.9800\n",
      "Epoch 149/200\n",
      "140/140 [==============================] - 0s 1ms/step - loss: 0.0209 - accuracy: 0.9929 - val_loss: 0.0589 - val_accuracy: 0.9867\n",
      "Epoch 150/200\n",
      "140/140 [==============================] - 0s 1ms/step - loss: 0.0258 - accuracy: 0.9900 - val_loss: 0.0519 - val_accuracy: 0.9867\n",
      "Epoch 151/200\n",
      "140/140 [==============================] - 0s 1ms/step - loss: 0.0262 - accuracy: 0.9929 - val_loss: 0.0730 - val_accuracy: 0.9733\n",
      "Epoch 152/200\n",
      "140/140 [==============================] - 0s 1ms/step - loss: 0.0196 - accuracy: 0.9900 - val_loss: 0.0672 - val_accuracy: 0.9800\n",
      "Epoch 153/200\n",
      "140/140 [==============================] - 0s 1ms/step - loss: 0.0205 - accuracy: 0.9929 - val_loss: 0.0691 - val_accuracy: 0.9933\n",
      "Epoch 154/200\n",
      "140/140 [==============================] - 0s 1ms/step - loss: 0.0240 - accuracy: 0.9929 - val_loss: 0.0553 - val_accuracy: 0.9867\n",
      "Epoch 155/200\n",
      "140/140 [==============================] - 0s 1ms/step - loss: 0.0232 - accuracy: 0.9900 - val_loss: 0.0824 - val_accuracy: 0.9733\n",
      "Epoch 156/200\n",
      "140/140 [==============================] - 0s 1ms/step - loss: 0.0215 - accuracy: 0.9914 - val_loss: 0.0652 - val_accuracy: 0.9867\n",
      "Epoch 157/200\n",
      "140/140 [==============================] - 0s 1ms/step - loss: 0.0223 - accuracy: 0.9900 - val_loss: 0.0712 - val_accuracy: 0.9800\n",
      "Epoch 158/200\n",
      "140/140 [==============================] - 0s 1ms/step - loss: 0.0228 - accuracy: 0.9914 - val_loss: 0.0630 - val_accuracy: 0.9867\n",
      "Epoch 159/200\n",
      "140/140 [==============================] - 0s 1ms/step - loss: 0.0172 - accuracy: 0.9929 - val_loss: 0.0749 - val_accuracy: 0.9800\n",
      "Epoch 160/200\n",
      "140/140 [==============================] - 0s 1ms/step - loss: 0.0245 - accuracy: 0.9886 - val_loss: 0.0541 - val_accuracy: 0.9867\n",
      "Epoch 161/200\n",
      "140/140 [==============================] - 0s 1ms/step - loss: 0.0154 - accuracy: 0.9943 - val_loss: 0.0659 - val_accuracy: 0.9867\n",
      "Epoch 162/200\n",
      "140/140 [==============================] - 0s 1ms/step - loss: 0.0222 - accuracy: 0.9886 - val_loss: 0.0630 - val_accuracy: 0.9800\n",
      "Epoch 163/200\n",
      "140/140 [==============================] - 0s 1ms/step - loss: 0.0219 - accuracy: 0.9914 - val_loss: 0.0728 - val_accuracy: 0.9867\n",
      "Epoch 164/200\n",
      "140/140 [==============================] - 0s 1ms/step - loss: 0.0208 - accuracy: 0.9886 - val_loss: 0.0901 - val_accuracy: 0.9733\n",
      "Epoch 165/200\n",
      "140/140 [==============================] - 0s 1ms/step - loss: 0.0192 - accuracy: 0.9957 - val_loss: 0.1025 - val_accuracy: 0.9800\n",
      "Epoch 166/200\n",
      "140/140 [==============================] - 0s 1ms/step - loss: 0.0230 - accuracy: 0.9914 - val_loss: 0.0745 - val_accuracy: 0.9867\n",
      "Epoch 167/200\n",
      "140/140 [==============================] - 0s 1ms/step - loss: 0.0190 - accuracy: 0.9914 - val_loss: 0.0734 - val_accuracy: 0.9867\n",
      "Epoch 168/200\n",
      "140/140 [==============================] - 0s 1ms/step - loss: 0.0233 - accuracy: 0.9914 - val_loss: 0.0825 - val_accuracy: 0.9800\n",
      "Epoch 169/200\n",
      "140/140 [==============================] - 0s 1ms/step - loss: 0.0192 - accuracy: 0.9914 - val_loss: 0.1045 - val_accuracy: 0.9800\n",
      "Epoch 170/200\n",
      "140/140 [==============================] - 0s 1ms/step - loss: 0.0183 - accuracy: 0.9914 - val_loss: 0.0783 - val_accuracy: 0.9867\n",
      "Epoch 171/200\n",
      "140/140 [==============================] - 0s 1ms/step - loss: 0.0144 - accuracy: 0.9943 - val_loss: 0.1694 - val_accuracy: 0.9533\n",
      "Epoch 172/200\n",
      "140/140 [==============================] - 0s 1ms/step - loss: 0.0240 - accuracy: 0.9886 - val_loss: 0.0754 - val_accuracy: 0.9800\n",
      "Epoch 173/200\n",
      "140/140 [==============================] - 0s 1ms/step - loss: 0.0223 - accuracy: 0.9929 - val_loss: 0.0784 - val_accuracy: 0.9800\n",
      "Epoch 174/200\n",
      "140/140 [==============================] - 0s 1ms/step - loss: 0.0226 - accuracy: 0.9900 - val_loss: 0.1061 - val_accuracy: 0.9733\n",
      "Epoch 175/200\n",
      "140/140 [==============================] - 0s 1ms/step - loss: 0.0185 - accuracy: 0.9929 - val_loss: 0.1000 - val_accuracy: 0.9800\n",
      "Epoch 176/200\n",
      "140/140 [==============================] - 0s 1ms/step - loss: 0.0186 - accuracy: 0.9929 - val_loss: 0.1002 - val_accuracy: 0.9733\n",
      "Epoch 177/200\n",
      "140/140 [==============================] - 0s 1ms/step - loss: 0.0103 - accuracy: 0.9957 - val_loss: 0.0889 - val_accuracy: 0.9800\n",
      "Epoch 178/200\n",
      "140/140 [==============================] - 0s 1ms/step - loss: 0.0194 - accuracy: 0.9943 - val_loss: 0.0939 - val_accuracy: 0.9800\n",
      "Epoch 179/200\n",
      "140/140 [==============================] - 0s 1ms/step - loss: 0.0132 - accuracy: 0.9929 - val_loss: 0.1375 - val_accuracy: 0.9667\n",
      "Epoch 180/200\n",
      "140/140 [==============================] - 0s 1ms/step - loss: 0.0230 - accuracy: 0.9900 - val_loss: 0.0835 - val_accuracy: 0.9800\n",
      "Epoch 181/200\n",
      "140/140 [==============================] - 0s 1ms/step - loss: 0.0120 - accuracy: 0.9943 - val_loss: 0.1539 - val_accuracy: 0.9600\n",
      "Epoch 182/200\n",
      "140/140 [==============================] - 0s 1ms/step - loss: 0.0275 - accuracy: 0.9900 - val_loss: 0.0964 - val_accuracy: 0.9800\n",
      "Epoch 183/200\n",
      "140/140 [==============================] - 0s 1ms/step - loss: 0.0179 - accuracy: 0.9943 - val_loss: 0.0963 - val_accuracy: 0.9800\n",
      "Epoch 184/200\n",
      "140/140 [==============================] - 0s 1ms/step - loss: 0.0198 - accuracy: 0.9914 - val_loss: 0.0954 - val_accuracy: 0.9733\n",
      "Epoch 185/200\n",
      "140/140 [==============================] - 0s 1ms/step - loss: 0.0129 - accuracy: 0.9957 - val_loss: 0.1171 - val_accuracy: 0.9733\n",
      "Epoch 186/200\n",
      "140/140 [==============================] - 0s 1ms/step - loss: 0.0200 - accuracy: 0.9914 - val_loss: 0.0835 - val_accuracy: 0.9867\n",
      "Epoch 187/200\n",
      "140/140 [==============================] - 0s 1ms/step - loss: 0.0168 - accuracy: 0.9929 - val_loss: 0.1007 - val_accuracy: 0.9733\n",
      "Epoch 188/200\n",
      "140/140 [==============================] - 0s 1ms/step - loss: 0.0198 - accuracy: 0.9914 - val_loss: 0.1342 - val_accuracy: 0.9667\n",
      "Epoch 189/200\n",
      "140/140 [==============================] - 0s 1ms/step - loss: 0.0184 - accuracy: 0.9929 - val_loss: 0.1043 - val_accuracy: 0.9867\n",
      "Epoch 190/200\n",
      "140/140 [==============================] - 0s 1ms/step - loss: 0.0138 - accuracy: 0.9943 - val_loss: 0.1281 - val_accuracy: 0.9733\n",
      "Epoch 191/200\n",
      "140/140 [==============================] - 0s 1ms/step - loss: 0.0200 - accuracy: 0.9929 - val_loss: 0.1029 - val_accuracy: 0.9667\n",
      "Epoch 192/200\n",
      "140/140 [==============================] - 0s 1ms/step - loss: 0.0157 - accuracy: 0.9943 - val_loss: 0.1208 - val_accuracy: 0.9800\n",
      "Epoch 193/200\n",
      "140/140 [==============================] - 0s 2ms/step - loss: 0.0196 - accuracy: 0.9943 - val_loss: 0.0966 - val_accuracy: 0.9800\n",
      "Epoch 194/200\n",
      "140/140 [==============================] - 0s 2ms/step - loss: 0.0201 - accuracy: 0.9943 - val_loss: 0.1051 - val_accuracy: 0.9800\n",
      "Epoch 195/200\n",
      "140/140 [==============================] - 0s 2ms/step - loss: 0.0139 - accuracy: 0.9929 - val_loss: 0.1482 - val_accuracy: 0.9667\n",
      "Epoch 196/200\n",
      "140/140 [==============================] - 0s 2ms/step - loss: 0.0196 - accuracy: 0.9929 - val_loss: 0.1299 - val_accuracy: 0.9733\n",
      "Epoch 197/200\n",
      "140/140 [==============================] - 0s 1ms/step - loss: 0.0138 - accuracy: 0.9914 - val_loss: 0.0988 - val_accuracy: 0.9733\n",
      "Epoch 198/200\n",
      "140/140 [==============================] - 0s 1ms/step - loss: 0.0205 - accuracy: 0.9943 - val_loss: 0.1162 - val_accuracy: 0.9800\n",
      "Epoch 199/200\n",
      "140/140 [==============================] - 0s 1ms/step - loss: 0.0186 - accuracy: 0.9929 - val_loss: 0.0875 - val_accuracy: 0.9800\n",
      "Epoch 200/200\n",
      "140/140 [==============================] - 0s 1ms/step - loss: 0.0211 - accuracy: 0.9943 - val_loss: 0.1063 - val_accuracy: 0.9800\n"
     ]
    }
   ],
   "source": [
    "# Define the Keras TensorBoard callback.\n",
    "logdir=\"logs/fit/\" + datetime.now().strftime(\"%Y%m%d-%H%M%S\")\n",
    "tensorboard_callback = keras.callbacks.TensorBoard(log_dir=logdir)\n",
    "\n",
    "history=model1.fit(\n",
    "    train_features, train_labels,\n",
    "     validation_data=(X_val, Y_val),\n",
    "    verbose=1, batch_size =5,epochs=200,callbacks=[tensorboard_callback])\n"
   ]
  },
  {
   "cell_type": "code",
   "execution_count": 34,
   "metadata": {},
   "outputs": [
    {
     "name": "stdout",
     "output_type": "stream",
     "text": [
      "INFO:tensorflow:Assets written to: DLmodelm.tf\\assets\n"
     ]
    }
   ],
   "source": [
    "#Save model weights\n",
    "model1.save('DLmodelm.tf')\n",
    "model_loaded = tf.keras.models.load_model('DLmodelm.tf')\n"
   ]
  },
  {
   "cell_type": "code",
   "execution_count": 36,
   "metadata": {
    "id": "4KUIC2kN8czH"
   },
   "outputs": [],
   "source": [
    "# plot network loss\n",
    "def plot_loss(history):\n",
    "  plt.plot(history.history['loss'], label='Train_loss')\n",
    "  plt.plot(history.history['val_loss'], label='val_loss')\n",
    "  plt.ylim([0, 1])\n",
    "  plt.xlabel('Epoch')\n",
    "  plt.ylabel('Error [Diabetes]')\n",
    "  plt.legend()\n",
    "  plt.grid(True)\n",
    "\n"
   ]
  },
  {
   "cell_type": "code",
   "execution_count": 37,
   "metadata": {
    "colab": {
     "base_uri": "https://localhost:8080/",
     "height": 283
    },
    "id": "29dUVD199f65",
    "outputId": "51a7c2a9-0ba9-4392-e610-3bd6315a8f15"
   },
   "outputs": [
    {
     "data": {
      "image/png": "[encoded data removed]",
      "text/plain": [
       "<Figure size 432x288 with 1 Axes>"
      ]
     },
     "metadata": {
      "needs_background": "light"
     },
     "output_type": "display_data"
    }
   ],
   "source": [
    "plot_loss(history)"
   ]
  },
  {
   "cell_type": "code",
   "execution_count": 38,
   "metadata": {},
   "outputs": [],
   "source": [
    "# plot network accuracy\n",
    "def plot_loss(history):\n",
    "  plt.plot(history.history['accuracy'], label='Train_accuracy')\n",
    "  plt.plot(history.history['val_accuracy'], label='val_accuracy')\n",
    "  plt.ylim([0, 1])\n",
    "  plt.xlabel('Epoch')\n",
    "  plt.ylabel('Accuracy [Diabetes]')\n",
    "  plt.legend()\n",
    "  plt.grid(True)\n"
   ]
  },
  {
   "cell_type": "code",
   "execution_count": 39,
   "metadata": {},
   "outputs": [
    {
     "data": {
      "image/png": "[encoded data removed]",
      "text/plain": [
       "<Figure size 432x288 with 1 Axes>"
      ]
     },
     "metadata": {
      "needs_background": "light"
     },
     "output_type": "display_data"
    }
   ],
   "source": [
    "plot_loss(history)"
   ]
  },
  {
   "cell_type": "code",
   "execution_count": 40,
   "metadata": {
    "colab": {
     "base_uri": "https://localhost:8080/"
    },
    "id": "WGO2-sR790An",
    "outputId": "d74e9bef-1abc-41c3-bb7a-bf78942ae28e"
   },
   "outputs": [
    {
     "name": "stdout",
     "output_type": "stream",
     "text": [
      "5/5 [==============================] - 0s 1ms/step - loss: 0.1378 - accuracy: 0.9733\n"
     ]
    }
   ],
   "source": [
    "# Predict on the test data\n",
    "predictions = model1.predict(X_test)\n",
    "\n",
    "# Calculate mean absolute errors\n",
    "score = model1.evaluate(X_test, Y_test,verbose=1)"
   ]
  },
  {
   "cell_type": "code",
   "execution_count": 41,
   "metadata": {},
   "outputs": [
    {
     "name": "stdout",
     "output_type": "stream",
     "text": [
      "22/22 [==============================] - 0s 1ms/step - loss: 0.0079 - accuracy: 0.9957\n",
      "Train acc:  [0.007880113087594509, 0.9957143068313599]\n",
      "5/5 [==============================] - 0s 2ms/step - loss: 0.1378 - accuracy: 0.9733\n",
      "Test acc:  [0.13780568540096283, 0.9733333587646484]\n"
     ]
    }
   ],
   "source": [
    "# Compare Prediction \n",
    "print(\"Train acc: \" , model1.evaluate(train_features, train_labels))\n",
    "print(\"Test acc: \", model1.evaluate(X_test, Y_test))"
   ]
  },
  {
   "cell_type": "code",
   "execution_count": 40,
   "metadata": {},
   "outputs": [
    {
     "name": "stdout",
     "output_type": "stream",
     "text": [
      "              precision    recall  f1-score   support\n",
      "\n",
      "           0  0.94736842 0.85714286 0.90000000        21\n",
      "           1  0.60000000 0.75000000 0.66666667         4\n",
      "           2  0.97619048 0.98400000 0.98007968       125\n",
      "\n",
      "   micro avg  0.96000000 0.96000000 0.96000000       150\n",
      "   macro avg  0.84118630 0.86371429 0.84891545       150\n",
      "weighted avg  0.96212364 0.96000000 0.96051085       150\n",
      " samples avg  0.96000000 0.96000000 0.96000000       150\n",
      "\n"
     ]
    }
   ],
   "source": [
    "\n",
    "# Prediction\n",
    "y_pred = np.around(model1.predict(X_test))\n",
    "print(metrics.classification_report(Y_test,y_pred, digits=8))"
   ]
  },
  {
   "cell_type": "code",
   "execution_count": 58,
   "metadata": {},
   "outputs": [
    {
     "data": {
      "text/plain": [
       "array([[0.00131434, 0.9787217 , 0.01996393]], dtype=float32)"
      ]
     },
     "execution_count": 58,
     "metadata": {},
     "output_type": "execute_result"
    }
   ],
   "source": [
    "new_df = pd.DataFrame([[100,300,75,64]])\n",
    "# We predict insulin\n",
    "prediction = model1.predict(new_df)\n",
    "prediction"
   ]
  },
  {
   "cell_type": "code",
   "execution_count": null,
   "metadata": {},
   "outputs": [],
   "source": [
    "#Calculate metrics\n",
    "y_true = Y\n",
    "y_prediction = p\n",
    "cnf_matrix = l #confusion_matrix(y_true, y_prediction)\n",
    "\n",
    "FP = cnf_matrix.sum(axis=0) - np.diag(cnf_matrix)  \n",
    "FN = cnf_matrix.sum(axis=1) - np.diag(cnf_matrix)\n",
    "TP = np.diag(cnf_matrix)\n",
    "TN = cnf_matrix.sum() - (FP + FN + TP)\n",
    "\n",
    "FP = FP.astype(float)\n",
    "FN = FN.astype(float)\n",
    "TP = TP.astype(float)\n",
    "TN = TN.astype(float)\n",
    "\n",
    "# Sensitivity, hit rate, recall, or true positive rate\n",
    "TPR = TP/(TP+FN)\n",
    "# Specificity or true negative rate\n",
    "TNR = TN/(TN+FP) \n",
    "# Precision or positive predictive value\n",
    "PPV = TP/(TP+FP)\n",
    "# Negative predictive value\n",
    "NPV = TN/(TN+FN)\n",
    "# Fall out or false positive rate\n",
    "FPR = FP/(FP+TN)\n",
    "# False negative rate\n",
    "FNR = FN/(TP+FN)\n",
    "# False discovery rate\n",
    "FDR = FP/(TP+FP)\n",
    "# Overall accuracy\n",
    "ACC = (TP+TN)/(TP+FP+FN+TN)"
   ]
  },
  {
   "cell_type": "code",
   "execution_count": 287,
   "metadata": {},
   "outputs": [],
   "source": [
    "#Plot Confusion metric\n",
    "def plot_confusion_matrix(cm, classes,\n",
    "                          normalize=False,\n",
    "                          cmap=plt.cm.Blues):\n",
    "    \"\"\"\n",
    "    This function prints and plots the confusion matrix.\n",
    "    Normalization can be applied by setting `normalize=True`.\n",
    "    \"\"\"\n",
    "    if normalize:\n",
    "        cm = cm.astype('float') / cm.sum(axis=1)[:, np.newaxis]\n",
    "        title='Normalized confusion matrix'\n",
    "    else:\n",
    "        title='Confusion matrix'\n",
    "\n",
    "    plt.imshow(cm, interpolation='nearest', cmap=cmap)\n",
    "    plt.title(title)\n",
    "    plt.colorbar()\n",
    "    tick_marks = np.arange(len(classes))\n",
    "    plt.xticks(tick_marks, classes, rotation=45)\n",
    "    plt.yticks(tick_marks, classes)\n",
    "\n",
    "    fmt = '.2f' if normalize else 'd'\n",
    "    thresh = cm.max() / 2.\n",
    "    for i, j in itertools.product(range(cm.shape[0]), range(cm.shape[1])):\n",
    "        plt.text(j, i, format(cm[i, j], fmt),\n",
    "                 horizontalalignment=\"center\",\n",
    "                 color=\"white\" if cm[i, j] > thresh else \"black\")\n",
    "\n",
    "    plt.tight_layout()\n",
    "    plt.ylabel('True label')\n",
    "    plt.xlabel('Predicted label')\n",
    "    plt.show()"
   ]
  },
  {
   "cell_type": "code",
   "execution_count": 1,
   "metadata": {},
   "outputs": [
    {
     "data": {
      "text/plain": [
       "Reusing TensorBoard on port 6006 (pid 9472), started 1 day, 2:14:26 ago. (Use '!kill 9472' to kill it.)"
      ]
     },
     "metadata": {},
     "output_type": "display_data"
    },
    {
     "data": {
      "text/html": [
       "\n",
       "      <iframe id=\"tensorboard-frame-d4cde5d438d38e2c\" width=\"100%\" height=\"800\" frameborder=\"0\">\n",
       "      </iframe>\n",
       "      <script>\n",
       "        (function() {\n",
       "          const frame = document.getElementById(\"tensorboard-frame-d4cde5d438d38e2c\");\n",
       "          const url = new URL(\"/\", window.location);\n",
       "          const port = 6006;\n",
       "          if (port) {\n",
       "            url.port = port;\n",
       "          }\n",
       "          frame.src = url;\n",
       "        })();\n",
       "      </script>\n",
       "    "
      ],
      "text/plain": [
       "<IPython.core.display.HTML object>"
      ]
     },
     "metadata": {},
     "output_type": "display_data"
    }
   ],
   "source": [
    "# Load the TensorBoard notebook extension.\n",
    "%load_ext tensorboard\n",
    "%tensorboard --logdir logs"
   ]
  },
  {
   "cell_type": "code",
   "execution_count": 60,
   "metadata": {},
   "outputs": [
    {
     "name": "stdout",
     "output_type": "stream",
     "text": [
      "^C\n"
     ]
    }
   ],
   "source": [
    "!tensorboard dev upload \\\n",
    "  --logdir logs \\\n",
    "  --name \"Sample op-level graph\" \\\n",
    "  --one_shot"
   ]
  },
  {
   "cell_type": "code",
   "execution_count": null,
   "metadata": {},
   "outputs": [],
   "source": []
  }
 ],
 "metadata": {
  "colab": {
   "collapsed_sections": [],
   "name": "DLdiabetes",
   "provenance": []
  },
  "kernelspec": {
   "display_name": "Python 3",
   "language": "python",
   "name": "python3"
  },
  "language_info": {
   "codemirror_mode": {
    "name": "ipython",
    "version": 3
   },
   "file_extension": ".py",
   "mimetype": "text/x-python",
   "name": "python",
   "nbconvert_exporter": "python",
   "pygments_lexer": "ipython3",
   "version": "3.8.8"
  }
 },
 "nbformat": 4,
 "nbformat_minor": 1
}
