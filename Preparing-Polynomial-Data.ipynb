{
 "cells": [
  {
   "cell_type": "code",
   "execution_count": 26,
   "id": "3e5667c5",
   "metadata": {},
   "outputs": [],
   "source": [
    "import numpy as np # linear algebra\n",
    "import pandas as pd # data processing, CSV file I/O (e.g. pd.read_csv)\n",
    "import csv,sklearn\n",
    "\n",
    "from subprocess import check_output"
   ]
  },
  {
   "cell_type": "code",
   "execution_count": 30,
   "id": "42493aea",
   "metadata": {},
   "outputs": [],
   "source": [
    "data = pd.read_csv('diabetes2.csv',encoding='latin1')\n",
    "data = data.drop(['Outcome', 'Pregnancies', 'SkinThickness','BMI','DiabetesPedigreeFunction'], axis=1)\n",
    "data = data[data['Glucose'] != 0]\n",
    "data = data[data['Insulin'] != 0]\n",
    "data = data[data['BloodPressure'] != 0]\n",
    "data = data[data['Age'] != 0]"
   ]
  },
  {
   "cell_type": "code",
   "execution_count": 31,
   "id": "9d35f484",
   "metadata": {},
   "outputs": [
    {
     "data": {
      "text/html": [
       "<div>\n",
       "<style scoped>\n",
       "    .dataframe tbody tr th:only-of-type {\n",
       "        vertical-align: middle;\n",
       "    }\n",
       "\n",
       "    .dataframe tbody tr th {\n",
       "        vertical-align: top;\n",
       "    }\n",
       "\n",
       "    .dataframe thead th {\n",
       "        text-align: right;\n",
       "    }\n",
       "</style>\n",
       "<table border=\"1\" class=\"dataframe\">\n",
       "  <thead>\n",
       "    <tr style=\"text-align: right;\">\n",
       "      <th></th>\n",
       "      <th>Glucose</th>\n",
       "      <th>Insulin</th>\n",
       "    </tr>\n",
       "  </thead>\n",
       "  <tbody>\n",
       "    <tr>\n",
       "      <th>0</th>\n",
       "      <td>89</td>\n",
       "      <td>94</td>\n",
       "    </tr>\n",
       "    <tr>\n",
       "      <th>1</th>\n",
       "      <td>137</td>\n",
       "      <td>168</td>\n",
       "    </tr>\n",
       "    <tr>\n",
       "      <th>2</th>\n",
       "      <td>78</td>\n",
       "      <td>88</td>\n",
       "    </tr>\n",
       "    <tr>\n",
       "      <th>3</th>\n",
       "      <td>197</td>\n",
       "      <td>543</td>\n",
       "    </tr>\n",
       "    <tr>\n",
       "      <th>4</th>\n",
       "      <td>189</td>\n",
       "      <td>846</td>\n",
       "    </tr>\n",
       "  </tbody>\n",
       "</table>\n",
       "</div>"
      ],
      "text/plain": [
       "   Glucose  Insulin\n",
       "0       89       94\n",
       "1      137      168\n",
       "2       78       88\n",
       "3      197      543\n",
       "4      189      846"
      ]
     },
     "execution_count": 31,
     "metadata": {},
     "output_type": "execute_result"
    }
   ],
   "source": [
    "#Create Train data for training the Polynomial Regression\n",
    "\n",
    "#delete zero row entries (using this to avoid )\n",
    "train = data[['Glucose','Insulin']]\n",
    "train.reset_index(drop=True, inplace=True)\n",
    "train.head()\n",
    "train.head()"
   ]
  },
  {
   "cell_type": "code",
   "execution_count": 11,
   "id": "39434513",
   "metadata": {},
   "outputs": [
    {
     "data": {
      "text/plain": [
       "393"
      ]
     },
     "execution_count": 11,
     "metadata": {},
     "output_type": "execute_result"
    }
   ],
   "source": [
    "len(train.index)"
   ]
  },
  {
   "cell_type": "code",
   "execution_count": 32,
   "id": "0bbf8c7b",
   "metadata": {},
   "outputs": [
    {
     "data": {
      "text/html": [
       "<div>\n",
       "<style scoped>\n",
       "    .dataframe tbody tr th:only-of-type {\n",
       "        vertical-align: middle;\n",
       "    }\n",
       "\n",
       "    .dataframe tbody tr th {\n",
       "        vertical-align: top;\n",
       "    }\n",
       "\n",
       "    .dataframe thead th {\n",
       "        text-align: right;\n",
       "    }\n",
       "</style>\n",
       "<table border=\"1\" class=\"dataframe\">\n",
       "  <thead>\n",
       "    <tr style=\"text-align: right;\">\n",
       "      <th></th>\n",
       "      <th>Glucose</th>\n",
       "      <th>Insulin</th>\n",
       "    </tr>\n",
       "  </thead>\n",
       "  <tbody>\n",
       "    <tr>\n",
       "      <th>0</th>\n",
       "      <td>148</td>\n",
       "      <td>0</td>\n",
       "    </tr>\n",
       "    <tr>\n",
       "      <th>1</th>\n",
       "      <td>85</td>\n",
       "      <td>0</td>\n",
       "    </tr>\n",
       "    <tr>\n",
       "      <th>2</th>\n",
       "      <td>183</td>\n",
       "      <td>0</td>\n",
       "    </tr>\n",
       "    <tr>\n",
       "      <th>3</th>\n",
       "      <td>116</td>\n",
       "      <td>0</td>\n",
       "    </tr>\n",
       "    <tr>\n",
       "      <th>4</th>\n",
       "      <td>125</td>\n",
       "      <td>0</td>\n",
       "    </tr>\n",
       "  </tbody>\n",
       "</table>\n",
       "</div>"
      ],
      "text/plain": [
       "   Glucose  Insulin\n",
       "0      148        0\n",
       "1       85        0\n",
       "2      183        0\n",
       "3      116        0\n",
       "4      125        0"
      ]
     },
     "execution_count": 32,
     "metadata": {},
     "output_type": "execute_result"
    }
   ],
   "source": [
    "#Create Test Data for predictiong missing values  \n",
    "data = pd.read_csv('diabetes2.csv',encoding='latin1')\n",
    "#Keep zero row entries (using this to avoid )\n",
    "data = data.drop(['Outcome', 'Pregnancies', 'SkinThickness','BMI','DiabetesPedigreeFunction'], axis=1)\n",
    "data = data[data['Glucose'] != 0]\n",
    "data = data[data['Insulin'] == 0]\n",
    "data = data[data['BloodPressure'] != 0]\n",
    "data = data[data['Age'] != 0]\n",
    "\n",
    "pred = data[['Glucose','Insulin']]\n",
    "pred.reset_index(drop=True, inplace=True)\n",
    "pred.head()"
   ]
  },
  {
   "cell_type": "code",
   "execution_count": 33,
   "id": "f4650325",
   "metadata": {},
   "outputs": [
    {
     "data": {
      "text/plain": [
       "335"
      ]
     },
     "execution_count": 33,
     "metadata": {},
     "output_type": "execute_result"
    }
   ],
   "source": [
    "len(pred.index)"
   ]
  },
  {
   "cell_type": "code",
   "execution_count": 34,
   "id": "dceff7c2",
   "metadata": {},
   "outputs": [
    {
     "data": {
      "text/plain": [
       "Glucose      0\n",
       "Insulin    335\n",
       "dtype: int64"
      ]
     },
     "execution_count": 34,
     "metadata": {},
     "output_type": "execute_result"
    }
   ],
   "source": [
    "pred.isin([0]).sum()\n"
   ]
  },
  {
   "cell_type": "code",
   "execution_count": 35,
   "id": "67eab45b",
   "metadata": {},
   "outputs": [],
   "source": [
    "#save train data\n",
    "train.to_csv('poly-Nonzero.csv',index=False, header=True)\n",
    "\n",
    "#save pred data\n",
    "pred.to_csv('poly-pred.csv',index=False, header=True)"
   ]
  },
  {
   "cell_type": "code",
   "execution_count": null,
   "id": "c1f60148",
   "metadata": {},
   "outputs": [],
   "source": []
  }
 ],
 "metadata": {
  "kernelspec": {
   "display_name": "Python 3 (ipykernel)",
   "language": "python",
   "name": "python3"
  },
  "language_info": {
   "codemirror_mode": {
    "name": "ipython",
    "version": 3
   },
   "file_extension": ".py",
   "mimetype": "text/x-python",
   "name": "python",
   "nbconvert_exporter": "python",
   "pygments_lexer": "ipython3",
   "version": "3.7.3"
  }
 },
 "nbformat": 4,
 "nbformat_minor": 5
}
