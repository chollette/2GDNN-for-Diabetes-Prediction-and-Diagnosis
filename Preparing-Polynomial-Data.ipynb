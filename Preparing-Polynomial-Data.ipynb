{
 "cells": [
  {
   "cell_type": "markdown",
   "id": "9035e204",
   "metadata": {},
   "source": [
    "MIT License\n",
    "\n",
    "Copyright (c) 2021 Chollette Olisah\n",
    "\n",
    "Permission is hereby granted, free of charge, to any person obtaining a copy\n",
    "of this software and associated documentation files (the \"Software\"), to deal\n",
    "in the Software without restriction, including without limitation the rights\n",
    "to use, copy, modify, merge, publish, distribute, sublicense, and/or sell\n",
    "copies of the Software, and to permit persons to whom the Software is\n",
    "furnished to do so, subject to the following conditions:\n",
    "\n",
    "The above copyright notice and this permission notice shall be included in all\n",
    "copies or substantial portions of the Software.\n",
    "\n",
    "THE SOFTWARE IS PROVIDED \"AS IS\", WITHOUT WARRANTY OF ANY KIND, EXPRESS OR\n",
    "IMPLIED, INCLUDING BUT NOT LIMITED TO THE WARRANTIES OF MERCHANTABILITY,\n",
    "FITNESS FOR A PARTICULAR PURPOSE AND NONINFRINGEMENT. IN NO EVENT SHALL THE\n",
    "AUTHORS OR COPYRIGHT HOLDERS BE LIABLE FOR ANY CLAIM, DAMAGES OR OTHER\n",
    "LIABILITY, WHETHER IN AN ACTION OF CONTRACT, TORT OR OTHERWISE, ARISING FROM,\n",
    "OUT OF OR IN CONNECTION WITH THE SOFTWARE OR THE USE OR OTHER DEALINGS IN THE\n",
    "SOFTWARE.\n"
   ]
  },
  {
   "cell_type": "code",
   "execution_count": 25,
   "id": "ea75151f",
   "metadata": {},
   "outputs": [],
   "source": [
    "import numpy as np # linear algebra\n",
    "import pandas as pd # data processing, CSV file I/O (e.g. pd.read_csv)\n",
    "import csv,sklearn\n",
    "\n",
    "from subprocess import check_output"
   ]
  },
  {
   "cell_type": "code",
   "execution_count": 26,
   "id": "b0ab8a3c",
   "metadata": {},
   "outputs": [],
   "source": [
    "data = pd.read_csv('diabetes2.csv',encoding='latin1')\n",
    "data = data[data['Glucose'] != 0]\n",
    "data = data[data['Insulin'] != 0]\n",
    "data = data[data['BloodPressure'] != 0]\n",
    "data = data[data['Age'] != 0]"
   ]
  },
  {
   "cell_type": "code",
   "execution_count": null,
   "id": "d8ee5228",
   "metadata": {},
   "outputs": [],
   "source": [
    "#Create Train data for training the Polynomial Regression\n",
    "\n",
    "#delete zero row entries (using this to avoid )\n",
    "train = data[['Glucose','Insulin']]\n",
    "train.reset_index(drop=True, inplace=True)\n",
    "train.head()\n",
    "train.head()"
   ]
  },
  {
   "cell_type": "code",
   "execution_count": null,
   "id": "96f5abe8",
   "metadata": {},
   "outputs": [],
   "source": [
    "#Create Test Data for predictiong missing values  \n",
    "data = pd.read_csv('diabetes2.csv',encoding='latin1')\n",
    "data = data[data['Glucose'] != 0]\n",
    "data = data[data['Insulin'] == 0]\n",
    "data = data[data['BloodPressure'] != 0]\n",
    "data = data[data['Age'] != 0]\n",
    "\n",
    "pred = data[['Glucose','Insulin']]\n",
    "pred.reset_index(drop=True, inplace=True)\n",
    "pred.head()"
   ]
  },
  {
   "cell_type": "code",
   "execution_count": 32,
   "id": "1dfcfb31",
   "metadata": {},
   "outputs": [],
   "source": [
    "#save train data\n",
    "train.to_csv('poly-Nonzero.csv',index=False, header=True)\n",
    "\n",
    "#save pred data\n",
    "pred.to_csv('poly-pred.csv',index=False, header=True)"
   ]
  }
 ],
 "metadata": {
  "kernelspec": {
   "display_name": "Python 3",
   "language": "python",
   "name": "python3"
  },
  "language_info": {
   "codemirror_mode": {
    "name": "ipython",
    "version": 3
   },
   "file_extension": ".py",
   "mimetype": "text/x-python",
   "name": "python",
   "nbconvert_exporter": "python",
   "pygments_lexer": "ipython3",
   "version": "3.8.8"
  }
 },
 "nbformat": 4,
 "nbformat_minor": 5
}
